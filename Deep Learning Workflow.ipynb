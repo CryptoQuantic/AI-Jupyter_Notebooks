{
 "cells": [
  {
   "cell_type": "markdown",
   "metadata": {},
   "source": [
    "<h2>Get All the Things</h2>"
   ]
  },
  {
   "cell_type": "code",
   "execution_count": 2,
   "metadata": {},
   "outputs": [],
   "source": [
    "%matplotlib inline\n",
    "import numpy as np\n",
    "import pandas as pd\n",
    "import seaborn as sns\n",
    "import matplotlib.pyplot as plt\n",
    "from sklearn.preprocessing import MinMaxScaler\n",
    "from sklearn.model_selection import train_test_split"
   ]
  },
  {
   "cell_type": "markdown",
   "metadata": {},
   "source": [
    "<h2>Import the Data</h2>"
   ]
  },
  {
   "cell_type": "code",
   "execution_count": 3,
   "metadata": {},
   "outputs": [],
   "source": [
    "#X is a set of parameters defined at the point of entry for each trade.\n",
    "#y is a list of returns for each trade.\n",
    "X = pd.read_csv(\"//bvt-fs-01//Users$//jwwilson//Documents//Historical//X.csv\",header=None).values\n",
    "y = pd.read_csv(\"//bvt-fs-01//Users$//jwwilson//Documents//Historical//y.csv\",header=None).values.reshape(-1,1)"
   ]
  },
  {
   "cell_type": "markdown",
   "metadata": {},
   "source": [
    "<h2>Prepare the Data</h2>"
   ]
  },
  {
   "cell_type": "code",
   "execution_count": 6,
   "metadata": {},
   "outputs": [],
   "source": [
    "#Scale Data ()\n",
    "scaler = MinMaxScaler()\n",
    "scaler.fit(X)\n",
    "Xs = scaler.transform(X)\n",
    "Xsr = Xs[:,10:]"
   ]
  },
  {
   "cell_type": "markdown",
   "metadata": {},
   "source": [
    "<h2>Define the Model<h2>"
   ]
  },
  {
   "cell_type": "code",
   "execution_count": null,
   "metadata": {},
   "outputs": [],
   "source": []
  },
  {
   "cell_type": "markdown",
   "metadata": {},
   "source": [
    "<h2>Run The Model</h2>"
   ]
  },
  {
   "cell_type": "code",
   "execution_count": null,
   "metadata": {},
   "outputs": [],
   "source": []
  },
  {
   "cell_type": "markdown",
   "metadata": {},
   "source": [
    "<h2>Analyze the Results</h2>"
   ]
  },
  {
   "cell_type": "code",
   "execution_count": null,
   "metadata": {},
   "outputs": [],
   "source": []
  },
  {
   "cell_type": "markdown",
   "metadata": {},
   "source": [
    "<h2>Functions</h2>"
   ]
  },
  {
   "cell_type": "code",
   "execution_count": 4,
   "metadata": {},
   "outputs": [],
   "source": [
    "def tradeStats(results):\n",
    "    \n",
    "    #total profit\n",
    "    total_profit = results.sum()\n",
    "    number_of_trades = len(results)\n",
    "    \n",
    "    #probability of a win, loss or breakeven\n",
    "    p_win = (results>0).sum()/len(results)\n",
    "    p_loss = (results<0).sum()/len(results)\n",
    "    p_be = (results==0).sum()/len(results)\n",
    "    \n",
    "    #Average Winner and loser\n",
    "    size_win = results[results>0].sum()/ (results>0).sum()*10000\n",
    "    size_loss = -results[results<0].sum()/ (results<0).sum()*10000\n",
    "    rr = size_win/size_loss\n",
    "    pips_without_fees = total_profit*10000\n",
    "    pips_with_estimated_fees = total_profit*10000-number_of_trades*1.2\n",
    "    return(total_profit,number_of_trades,p_win,p_loss,p_be,size_win,size_loss,rr,pips_without_fees,pips_with_estimated_fees)"
   ]
  },
  {
   "cell_type": "code",
   "execution_count": null,
   "metadata": {},
   "outputs": [],
   "source": []
  }
 ],
 "metadata": {
  "kernelspec": {
   "display_name": "Python 3",
   "language": "python",
   "name": "python3"
  },
  "language_info": {
   "codemirror_mode": {
    "name": "ipython",
    "version": 3
   },
   "file_extension": ".py",
   "mimetype": "text/x-python",
   "name": "python",
   "nbconvert_exporter": "python",
   "pygments_lexer": "ipython3",
   "version": "3.5.5"
  }
 },
 "nbformat": 4,
 "nbformat_minor": 2
}
