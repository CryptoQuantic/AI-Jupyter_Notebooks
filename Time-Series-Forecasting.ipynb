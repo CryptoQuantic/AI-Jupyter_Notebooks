{
 "cells": [
  {
   "cell_type": "markdown",
   "metadata": {},
   "source": [
    "<h2>Description:</h2>\n",
    "A framework for using machine learning to predict the future value of a timeseries."
   ]
  },
  {
   "cell_type": "markdown",
   "metadata": {},
   "source": [
    "<h2>Get all the things.</h2>"
   ]
  },
  {
   "cell_type": "code",
   "execution_count": 3,
   "metadata": {},
   "outputs": [
    {
     "name": "stderr",
     "output_type": "stream",
     "text": [
      "/Users/johnwilson/anaconda/envs/ztdl/lib/python3.5/site-packages/h5py/__init__.py:36: FutureWarning: Conversion of the second argument of issubdtype from `float` to `np.floating` is deprecated. In future, it will be treated as `np.float64 == np.dtype(float).type`.\n",
      "  from ._conv import register_converters as _register_converters\n",
      "Using TensorFlow backend.\n",
      "/Users/johnwilson/anaconda/envs/ztdl/lib/python3.5/importlib/_bootstrap.py:222: RuntimeWarning: compiletime version 3.6 of module 'tensorflow.python.framework.fast_tensor_util' does not match runtime version 3.5\n",
      "  return f(*args, **kwds)\n"
     ]
    }
   ],
   "source": [
    "%matplotlib inline\n",
    "import numpy as np\n",
    "import pandas as pd\n",
    "import seaborn as sns\n",
    "from keras import layers\n",
    "from tqdm import tqdm\n",
    "from keras.layers import Dense, Activation, Flatten, Convolution1D, Dropout,MaxPooling1D,GlobalAveragePooling1D\n",
    "import matplotlib.pyplot as plt\n",
    "from keras.optimizers import SGD\n",
    "from keras.models import Sequential\n",
    "from sklearn.preprocessing import MinMaxScaler\n",
    "from keras.utils.np_utils import to_categorical\n",
    "from sklearn.model_selection import train_test_split"
   ]
  },
  {
   "cell_type": "markdown",
   "metadata": {},
   "source": [
    "<h2>Define Some Parameters:</h2>"
   ]
  },
  {
   "cell_type": "code",
   "execution_count": 88,
   "metadata": {},
   "outputs": [],
   "source": [
    "dataseries_length = 300\n",
    "lookahead_fraction = 0.1 #fraction of dataset to look ahead.\n",
    "nphases = 3 #number of independant sine wave in the dataset.\n",
    "ntest = 20000 # number of tetset datapoints\n",
    "ntrain = 4000# number of training datapoints"
   ]
  },
  {
   "cell_type": "markdown",
   "metadata": {},
   "source": [
    "<h2>Generate A Dataset of Complex Timeseries</h2>"
   ]
  },
  {
   "cell_type": "code",
   "execution_count": 8,
   "metadata": {},
   "outputs": [],
   "source": [
    "#genearte a complex time series\n",
    "def generateTimeSeries(length,ncomps):\n",
    "    xx = np.arange(length)\n",
    "    y = 0;\n",
    "    for j in range(0,ncomps):\n",
    "        period = np.random.rand(1)\n",
    "        phase  = np.random.randint(length)\n",
    "        y =  y+np.sin((xx+phase)*period/6.28)/period\n",
    "    return y\n",
    "\n",
    "#for baslining, leys look at a som of random numbers (random walk)\n",
    "def generateCumSum(length,p1,ncomps):\n",
    "    xx = np.random.randn(length)\n",
    "    return np.cumsum(xx)\n",
    "\n",
    "#takes a time series and splits it at a fraction of its length, and returns a point at the and for predicting.\n",
    "def generateXy(series,fraction):\n",
    "    xlen = series.shape[0]*fraction\n",
    "    xlen = int(round(xlen))\n",
    "    X = series[0:xlen]\n",
    "    y = series[-1]\n",
    "    return (X,y)\n",
    "\n",
    "#combine multiple timeseries X,y points into a training set, normalize arch one.\n",
    "def makeDataset(n): \n",
    "    A = []\n",
    "    y = []\n",
    "    for j in tqdm(range(0,n)):\n",
    "        # Xtemp,ytemp = generateXy(generateCumSum(200,1,4),.5)\n",
    "       # Xtemp,ytemp = generateXy(generateTimeSeries(dataseries_length,nphases),1-lookahead_fraction)\n",
    "        Xtemp,ytemp = generateXy(generateSyntheticStockSeries(dataseries_length),1-lookahead_fraction)\n",
    "        Xtemp = Xtemp.reshape(-1,1)\n",
    "        ytemp = ytemp.reshape(-1,1)\n",
    "        xmin = np.min(Xtemp)\n",
    "        xmax = np.max(Xtemp)\n",
    "        Xtemp = (Xtemp-xmin)/(xmax-xmin)\n",
    "        ytemp = (ytemp-xmin)/(xmax-xmin)\n",
    "        A.append(Xtemp)\n",
    "        y.append(ytemp)      \n",
    "    A = np.array(A)\n",
    "    y = np.array(y)\n",
    "    A = A.reshape(A.shape[0],A.shape[1])\n",
    "    y = y.reshape(n)\n",
    "    return (A,y)       "
   ]
  },
  {
   "cell_type": "markdown",
   "metadata": {},
   "source": [
    "<h2>Build the dataset</h2>\n",
    "Build training and testing dataset, and show a couple representative plots"
   ]
  },
  {
   "cell_type": "code",
   "execution_count": 89,
   "metadata": {},
   "outputs": [
    {
     "name": "stderr",
     "output_type": "stream",
     "text": [
      "100%|██████████| 4000/4000 [18:00<00:00,  3.78it/s]\n",
      "100%|██████████| 20000/20000 [1:33:06<00:00,  3.92it/s]  \n"
     ]
    },
    {
     "data": {
      "image/png": "[encoded data removed]",
      "text/plain": [
       "<Figure size 432x288 with 1 Axes>"
      ]
     },
     "metadata": {},
     "output_type": "display_data"
    }
   ],
   "source": [
    "A,y = makeDataset(ntrain)\n",
    "Aval,yval = makeDataset(ntest)\n",
    "xx = range(0,A.shape[1])\n",
    "_ = plt.plot(xx,A[0],xx,A[-1])"
   ]
  },
  {
   "cell_type": "markdown",
   "metadata": {},
   "source": [
    "<h2>Define the 1st Model - Fully connected NN</h2>"
   ]
  },
  {
   "cell_type": "code",
   "execution_count": 104,
   "metadata": {},
   "outputs": [
    {
     "data": {
      "text/plain": [
       "(4000,)"
      ]
     },
     "execution_count": 104,
     "metadata": {},
     "output_type": "execute_result"
    }
   ],
   "source": [
    "y.shape"
   ]
  },
  {
   "cell_type": "code",
   "execution_count": 80,
   "metadata": {},
   "outputs": [
    {
     "name": "stdout",
     "output_type": "stream",
     "text": [
      "_________________________________________________________________\n",
      "Layer (type)                 Output Shape              Param #   \n",
      "=================================================================\n",
      "dense_15 (Dense)             (None, 270)               73170     \n",
      "_________________________________________________________________\n",
      "dropout_5 (Dropout)          (None, 270)               0         \n",
      "_________________________________________________________________\n",
      "dense_16 (Dense)             (None, 128)               34688     \n",
      "_________________________________________________________________\n",
      "dropout_6 (Dropout)          (None, 128)               0         \n",
      "_________________________________________________________________\n",
      "dense_17 (Dense)             (None, 128)               16512     \n",
      "_________________________________________________________________\n",
      "dense_18 (Dense)             (None, 128)               16512     \n",
      "_________________________________________________________________\n",
      "dense_19 (Dense)             (None, 64)                8256      \n",
      "_________________________________________________________________\n",
      "dense_20 (Dense)             (None, 32)                2080      \n",
      "_________________________________________________________________\n",
      "dense_21 (Dense)             (None, 1)                 33        \n",
      "=================================================================\n",
      "Total params: 151,251\n",
      "Trainable params: 151,251\n",
      "Non-trainable params: 0\n",
      "_________________________________________________________________\n"
     ]
    }
   ],
   "source": [
    "model = Sequential()\n",
    "model.add(Dense(A.shape[1],input_shape=(A.shape[1],),activation = 'relu'))\n",
    "model.add(layers.Dropout(0.5))\n",
    "model.add(Dense(128,activation = 'relu'))\n",
    "model.add(layers.Dropout(0.5))\n",
    "model.add(Dense(128,activation = 'relu'))\n",
    "model.add(Dense(128,activation = 'relu'))\n",
    "model.add(Dense(64,activation = 'relu'))\n",
    "model.add(Dense(32,activation = 'relu'))\n",
    "model.add(Dense(1))\n",
    "model.compile(optimizer='rmsprop', loss='mse', metrics=['mae'])\n",
    "model.summary()\n"
   ]
  },
  {
   "cell_type": "code",
   "execution_count": 99,
   "metadata": {},
   "outputs": [
    {
     "name": "stdout",
     "output_type": "stream",
     "text": [
      "Train on 20000 samples, validate on 4000 samples\n",
      "Epoch 1/50\n",
      " - 1s - loss: 0.1215 - mean_absolute_error: 0.2165 - val_loss: 0.1427 - val_mean_absolute_error: 0.2645\n",
      "Epoch 2/50\n",
      " - 1s - loss: 0.1211 - mean_absolute_error: 0.2149 - val_loss: 0.1423 - val_mean_absolute_error: 0.2633\n",
      "Epoch 3/50\n",
      " - 1s - loss: 0.1196 - mean_absolute_error: 0.2142 - val_loss: 0.1157 - val_mean_absolute_error: 0.2197\n",
      "Epoch 4/50\n",
      " - 1s - loss: 0.1198 - mean_absolute_error: 0.2135 - val_loss: 0.1315 - val_mean_absolute_error: 0.2457\n",
      "Epoch 5/50\n",
      " - 1s - loss: 0.1193 - mean_absolute_error: 0.2132 - val_loss: 0.1220 - val_mean_absolute_error: 0.2309\n",
      "Epoch 6/50\n",
      " - 1s - loss: 0.1191 - mean_absolute_error: 0.2137 - val_loss: 0.1202 - val_mean_absolute_error: 0.2279\n",
      "Epoch 7/50\n",
      " - 1s - loss: 0.1189 - mean_absolute_error: 0.2122 - val_loss: 0.1220 - val_mean_absolute_error: 0.2312\n",
      "Epoch 8/50\n",
      " - 1s - loss: 0.1184 - mean_absolute_error: 0.2126 - val_loss: 0.1257 - val_mean_absolute_error: 0.2372\n",
      "Epoch 9/50\n",
      " - 1s - loss: 0.1184 - mean_absolute_error: 0.2120 - val_loss: 0.1394 - val_mean_absolute_error: 0.2579\n",
      "Epoch 10/50\n",
      " - 1s - loss: 0.1179 - mean_absolute_error: 0.2112 - val_loss: 0.1318 - val_mean_absolute_error: 0.2470\n",
      "Epoch 11/50\n",
      " - 1s - loss: 0.1182 - mean_absolute_error: 0.2108 - val_loss: 0.1438 - val_mean_absolute_error: 0.2659\n",
      "Epoch 12/50\n",
      " - 1s - loss: 0.1179 - mean_absolute_error: 0.2107 - val_loss: 0.1302 - val_mean_absolute_error: 0.2440\n",
      "Epoch 13/50\n",
      " - 1s - loss: 0.1176 - mean_absolute_error: 0.2112 - val_loss: 0.1335 - val_mean_absolute_error: 0.2499\n",
      "Epoch 14/50\n",
      " - 1s - loss: 0.1180 - mean_absolute_error: 0.2112 - val_loss: 0.1159 - val_mean_absolute_error: 0.2191\n",
      "Epoch 15/50\n",
      " - 1s - loss: 0.1176 - mean_absolute_error: 0.2101 - val_loss: 0.1419 - val_mean_absolute_error: 0.2622\n",
      "Epoch 16/50\n",
      " - 1s - loss: 0.1169 - mean_absolute_error: 0.2098 - val_loss: 0.1087 - val_mean_absolute_error: 0.2030\n",
      "Epoch 17/50\n",
      " - 1s - loss: 0.1175 - mean_absolute_error: 0.2099 - val_loss: 0.1228 - val_mean_absolute_error: 0.2315\n",
      "Epoch 18/50\n",
      " - 1s - loss: 0.1171 - mean_absolute_error: 0.2095 - val_loss: 0.1088 - val_mean_absolute_error: 0.2038\n",
      "Epoch 19/50\n",
      " - 1s - loss: 0.1171 - mean_absolute_error: 0.2091 - val_loss: 0.1264 - val_mean_absolute_error: 0.2374\n",
      "Epoch 20/50\n",
      " - 1s - loss: 0.1163 - mean_absolute_error: 0.2089 - val_loss: 0.1227 - val_mean_absolute_error: 0.2313\n",
      "Epoch 21/50\n",
      " - 1s - loss: 0.1166 - mean_absolute_error: 0.2090 - val_loss: 0.1237 - val_mean_absolute_error: 0.2331\n",
      "Epoch 22/50\n",
      " - 1s - loss: 0.1162 - mean_absolute_error: 0.2086 - val_loss: 0.1186 - val_mean_absolute_error: 0.2252\n",
      "Epoch 23/50\n",
      " - 1s - loss: 0.1165 - mean_absolute_error: 0.2084 - val_loss: 0.1122 - val_mean_absolute_error: 0.2118\n",
      "Epoch 24/50\n",
      " - 1s - loss: 0.1164 - mean_absolute_error: 0.2079 - val_loss: 0.1171 - val_mean_absolute_error: 0.2209\n",
      "Epoch 25/50\n",
      " - 2s - loss: 0.1168 - mean_absolute_error: 0.2086 - val_loss: 0.1162 - val_mean_absolute_error: 0.2196\n",
      "Epoch 26/50\n",
      " - 2s - loss: 0.1161 - mean_absolute_error: 0.2077 - val_loss: 0.1252 - val_mean_absolute_error: 0.2357\n",
      "Epoch 27/50\n",
      " - 1s - loss: 0.1152 - mean_absolute_error: 0.2069 - val_loss: 0.1159 - val_mean_absolute_error: 0.2190\n",
      "Epoch 28/50\n",
      " - 1s - loss: 0.1160 - mean_absolute_error: 0.2073 - val_loss: 0.1095 - val_mean_absolute_error: 0.2059\n",
      "Epoch 29/50\n",
      " - 1s - loss: 0.1157 - mean_absolute_error: 0.2071 - val_loss: 0.1196 - val_mean_absolute_error: 0.2248\n",
      "Epoch 30/50\n",
      " - 1s - loss: 0.1157 - mean_absolute_error: 0.2071 - val_loss: 0.1150 - val_mean_absolute_error: 0.2162\n",
      "Epoch 31/50\n",
      " - 1s - loss: 0.1149 - mean_absolute_error: 0.2065 - val_loss: 0.1243 - val_mean_absolute_error: 0.2344\n",
      "Epoch 32/50\n",
      " - 1s - loss: 0.1154 - mean_absolute_error: 0.2065 - val_loss: 0.1196 - val_mean_absolute_error: 0.2249\n",
      "Epoch 33/50\n",
      " - 1s - loss: 0.1152 - mean_absolute_error: 0.2074 - val_loss: 0.1085 - val_mean_absolute_error: 0.2034\n",
      "Epoch 34/50\n",
      " - 1s - loss: 0.1149 - mean_absolute_error: 0.2055 - val_loss: 0.1176 - val_mean_absolute_error: 0.2219\n",
      "Epoch 35/50\n",
      " - 1s - loss: 0.1150 - mean_absolute_error: 0.2062 - val_loss: 0.1101 - val_mean_absolute_error: 0.2053\n",
      "Epoch 36/50\n",
      " - 1s - loss: 0.1145 - mean_absolute_error: 0.2061 - val_loss: 0.1193 - val_mean_absolute_error: 0.2244\n",
      "Epoch 37/50\n",
      " - 1s - loss: 0.1149 - mean_absolute_error: 0.2059 - val_loss: 0.1157 - val_mean_absolute_error: 0.2188\n",
      "Epoch 38/50\n",
      " - 1s - loss: 0.1149 - mean_absolute_error: 0.2055 - val_loss: 0.1303 - val_mean_absolute_error: 0.2431\n",
      "Epoch 39/50\n",
      " - 1s - loss: 0.1143 - mean_absolute_error: 0.2063 - val_loss: 0.1131 - val_mean_absolute_error: 0.2132\n",
      "Epoch 40/50\n",
      " - 1s - loss: 0.1146 - mean_absolute_error: 0.2046 - val_loss: 0.1084 - val_mean_absolute_error: 0.2023\n",
      "Epoch 41/50\n",
      " - 1s - loss: 0.1146 - mean_absolute_error: 0.2059 - val_loss: 0.1103 - val_mean_absolute_error: 0.2075\n",
      "Epoch 42/50\n",
      " - 1s - loss: 0.1141 - mean_absolute_error: 0.2053 - val_loss: 0.1218 - val_mean_absolute_error: 0.2295\n",
      "Epoch 43/50\n",
      " - 1s - loss: 0.1146 - mean_absolute_error: 0.2050 - val_loss: 0.1167 - val_mean_absolute_error: 0.2195\n",
      "Epoch 44/50\n",
      " - 1s - loss: 0.1147 - mean_absolute_error: 0.2059 - val_loss: 0.1089 - val_mean_absolute_error: 0.2040\n",
      "Epoch 45/50\n",
      " - 1s - loss: 0.1141 - mean_absolute_error: 0.2057 - val_loss: 0.1144 - val_mean_absolute_error: 0.2161\n",
      "Epoch 46/50\n",
      " - 1s - loss: 0.1146 - mean_absolute_error: 0.2053 - val_loss: 0.1180 - val_mean_absolute_error: 0.2226\n",
      "Epoch 47/50\n",
      " - 1s - loss: 0.1145 - mean_absolute_error: 0.2051 - val_loss: 0.1101 - val_mean_absolute_error: 0.2074\n",
      "Epoch 48/50\n",
      " - 1s - loss: 0.1140 - mean_absolute_error: 0.2048 - val_loss: 0.1174 - val_mean_absolute_error: 0.2204\n",
      "Epoch 49/50\n",
      " - 1s - loss: 0.1145 - mean_absolute_error: 0.2052 - val_loss: 0.1091 - val_mean_absolute_error: 0.2036\n",
      "Epoch 50/50\n",
      " - 1s - loss: 0.1142 - mean_absolute_error: 0.2053 - val_loss: 0.1205 - val_mean_absolute_error: 0.2271\n"
     ]
    },
    {
     "data": {
      "text/plain": [
       "[<matplotlib.lines.Line2D at 0x119adba58>]"
      ]
     },
     "execution_count": 99,
     "metadata": {},
     "output_type": "execute_result"
    },
    {
     "data": {
      "image/png": "[encoded data removed]",
      "text/plain": [
       "<Figure size 432x288 with 1 Axes>"
      ]
     },
     "metadata": {},
     "output_type": "display_data"
    }
   ],
   "source": [
    "h = model.fit(Aval, yval, batch_size=128, epochs=50, verbose=2,validation_data=(A, y))\n",
    "plt.plot(h.history['loss'])\n",
    "plt.plot(h.history['val_loss'])"
   ]
  },
  {
   "cell_type": "code",
   "execution_count": 154,
   "metadata": {},
   "outputs": [
    {
     "data": {
      "text/plain": [
       "(4000,)"
      ]
     },
     "execution_count": 154,
     "metadata": {},
     "output_type": "execute_result"
    }
   ],
   "source": [
    "yfit = model.predict(A)\n",
    "#yfitc1 = covmodel1.predict(Aval.reshape(30000,170,1))\n",
    "yfitc2 = covmodel2.predict(A.reshape(4000,270,1))\n",
    "yfit = yfit.reshape(-1,)\n",
    "yfit.shape"
   ]
  },
  {
   "cell_type": "code",
   "execution_count": null,
   "metadata": {},
   "outputs": [
    {
     "data": {
      "text/plain": [
       "(4000,)"
      ]
     },
     "execution_count": 155,
     "metadata": {},
     "output_type": "execute_result"
    }
   ],
   "source": [
    "#yavg = (yfit+yfitc1+yfitc2)/3\n",
    "#plt.plot(yval,yfit,'bo')\n",
    "\n",
    "lastp = A[:,269]\n",
    "#yfitc = model.predict(Aval.reshape(60000,170,1)).reshape(-1)\n",
    "delta = y-lastp\n",
    "deltap = yfitc2-lastp\n",
    "plt.plot(deltap,delta,'bo')\n",
    "lastp.shape"
   ]
  },
  {
   "cell_type": "code",
   "execution_count": 110,
   "metadata": {},
   "outputs": [
    {
     "name": "stdout",
     "output_type": "stream",
     "text": [
      "[[1.         0.68885494]\n",
      " [0.68885494 1.        ]]\n",
      "[[1.         0.01536487]\n",
      " [0.01536487 1.        ]]\n"
     ]
    }
   ],
   "source": [
    "print(np.corrcoef(y.T,yfit.T))\n",
    "print(np.corrcoef(delta.T,deltap.T))"
   ]
  },
  {
   "cell_type": "code",
   "execution_count": 139,
   "metadata": {},
   "outputs": [
    {
     "data": {
      "text/plain": [
       "[<matplotlib.lines.Line2D at 0x106e4d160>]"
      ]
     },
     "execution_count": 139,
     "metadata": {},
     "output_type": "execute_result"
    },
    {
     "data": {
      "image/png": "[encoded data removed]",
      "text/plain": [
       "<Figure size 432x288 with 1 Axes>"
      ]
     },
     "metadata": {},
     "output_type": "display_data"
    }
   ],
   "source": [
    "s = generateSyntheticStockSeries(30000)\n",
    "plt.plot(s)"
   ]
  },
  {
   "cell_type": "code",
   "execution_count": 135,
   "metadata": {},
   "outputs": [
    {
     "data": {
      "image/png": "[encoded data removed]",
      "text/plain": [
       "<Figure size 432x288 with 1 Axes>"
      ]
     },
     "metadata": {},
     "output_type": "display_data"
    }
   ],
   "source": [
    "delta = 10\n",
    "s = generateSyntheticStockSeries(300)\n",
    "X1,y1 = generateXy(s,.9)\n",
    "xmin = np.min(X1)\n",
    "xmax = np.max(X1)\n",
    "X1 = (X1-xmin)/(xmax-xmin)\n",
    "y1 = (y1-xmin)/(xmax-xmin)\n",
    "s = (s-xmin)/(xmax-xmin)\n",
    "x = range(0,A.shape[1])\n",
    "xx = range(0,300)\n",
    "xxp = 300\n",
    "#p = covmodel1.predict(X1.reshape(1,170,1))\n",
    "p = model.predict(X1.reshape(-1,270))\n",
    "#cp3 = covmodel3.predict(X1.reshape(1,370,1))\n",
    "#cp2 = covmodel2.predict(X1.reshape(1,370,1))\n",
    "#_= plt.plot(x,X1+.02,xx,s,xxp,y1,'ro',xxp,p,'bo',xxp,cp1,'go',xxp,cp2,'yo',xxp,cp3,'gx')\n",
    "_ = plt.plot(x,X1+.02,xx,s,xxp,y1,'ro',xxp,p,'bo')\n",
    "#print(\"p1 = {} p2 = {} p3 = {}\".format(p1,p2,p3))"
   ]
  },
  {
   "cell_type": "code",
   "execution_count": null,
   "metadata": {},
   "outputs": [],
   "source": []
  },
  {
   "cell_type": "code",
   "execution_count": 161,
   "metadata": {},
   "outputs": [],
   "source": [
    "#yfit = model.predict(Aval).reshape(-1)\n",
    "#lastp = Aval[:,169]\n",
    "#delta = yval-lastp\n",
    "#deltap = yfit-lastp\n",
    "#plt.plot(deltap,delta,'bo')\n",
    "\n",
    "lastp = Aval[:,269]\n",
    "yfitc = model.predict(Aval.reshape(60000,170,1)).reshape(-1)\n",
    "delta = yval-lastp\n",
    "deltap = yfitc-lastp\n",
    "#print(\"shapes = {},{},{}\".format(yfitc.shape,yval.shape,lastp.shape))"
   ]
  },
  {
   "cell_type": "code",
   "execution_count": 162,
   "metadata": {},
   "outputs": [],
   "source": [
    "n_correct = []\n",
    "avgdelta = []\n",
    "for p in np.arange(-100,100):\n",
    "    deltagt = delta[deltap>p/100]\n",
    "    sumd = np.sum(deltagt) \n",
    "    npoints = deltagt.shape[0] \n",
    "    avgdelta.append(sumd/npoints)\n",
    "    nc = sum(deltagt>0)/sum(deltagt>-2)\n",
    "    n_correct.append(nc)"
   ]
  },
  {
   "cell_type": "code",
   "execution_count": 163,
   "metadata": {},
   "outputs": [
    {
     "data": {
      "text/plain": [
       "[<matplotlib.lines.Line2D at 0xc80b8ed630>]"
      ]
     },
     "execution_count": 163,
     "metadata": {},
     "output_type": "execute_result"
    },
    {
     "data": {
      "image/png": "[encoded data removed]",
      "text/plain": [
       "<matplotlib.figure.Figure at 0xc80b8936a0>"
      ]
     },
     "metadata": {},
     "output_type": "display_data"
    }
   ],
   "source": [
    "plt.plot(n_correct,'bo')"
   ]
  },
  {
   "cell_type": "code",
   "execution_count": 164,
   "metadata": {},
   "outputs": [
    {
     "data": {
      "text/plain": [
       "array([[ 1.        ,  0.92722763],\n",
       "       [ 0.92722763,  1.        ]])"
      ]
     },
     "execution_count": 164,
     "metadata": {},
     "output_type": "execute_result"
    }
   ],
   "source": [
    "np.corrcoef(delta.T,deltap.T)"
   ]
  },
  {
   "cell_type": "code",
   "execution_count": 144,
   "metadata": {},
   "outputs": [
    {
     "name": "stderr",
     "output_type": "stream",
     "text": [
      "C:\\Users\\jwwilson\\AppData\\Local\\Continuum\\Anaconda2\\envs\\ztdl\\lib\\site-packages\\ipykernel_launcher.py:2: UserWarning: Update your `Conv1D` call to the Keras 2 API: `Conv1D(filters=32, input_shape=(170, 1), kernel_size=10)`\n",
      "  \n"
     ]
    },
    {
     "name": "stdout",
     "output_type": "stream",
     "text": [
      "_________________________________________________________________\n",
      "Layer (type)                 Output Shape              Param #   \n",
      "=================================================================\n",
      "conv1d_3 (Conv1D)            (None, 161, 32)           352       \n",
      "_________________________________________________________________\n",
      "activation_3 (Activation)    (None, 161, 32)           0         \n",
      "_________________________________________________________________\n",
      "flatten_2 (Flatten)          (None, 5152)              0         \n",
      "_________________________________________________________________\n",
      "dropout_6 (Dropout)          (None, 5152)              0         \n",
      "_________________________________________________________________\n",
      "dense_21 (Dense)             (None, 128)               659584    \n",
      "_________________________________________________________________\n",
      "dense_22 (Dense)             (None, 64)                8256      \n",
      "_________________________________________________________________\n",
      "dense_23 (Dense)             (None, 1)                 65        \n",
      "=================================================================\n",
      "Total params: 668,257\n",
      "Trainable params: 668,257\n",
      "Non-trainable params: 0\n",
      "_________________________________________________________________\n"
     ]
    }
   ],
   "source": [
    "covmodel1 = Sequential()\n",
    "covmodel1.add( Convolution1D( nb_filter=32, filter_length=10, input_shape=(A.shape[1], 1)))\n",
    "covmodel1.add(Activation('relu'))\n",
    "covmodel1.add(Flatten())\n",
    "covmodel1.add(Dropout(0.4))\n",
    "covmodel1.add(Dense(128, activation='relu'))\n",
    "covmodel1.add(Dense(64, activation='relu'))\n",
    "covmodel1.add(Dense(1))\n",
    "covmodel1.compile(optimizer='rmsprop', loss='mse', metrics=['mae'])\n",
    "covmodel1.summary()"
   ]
  },
  {
   "cell_type": "code",
   "execution_count": 151,
   "metadata": {},
   "outputs": [
    {
     "name": "stdout",
     "output_type": "stream",
     "text": [
      "_________________________________________________________________\n",
      "Layer (type)                 Output Shape              Param #   \n",
      "=================================================================\n",
      "conv1d_5 (Conv1D)            (None, 251, 100)          2100      \n",
      "_________________________________________________________________\n",
      "activation_5 (Activation)    (None, 251, 100)          0         \n",
      "_________________________________________________________________\n",
      "flatten_1 (Flatten)          (None, 25100)             0         \n",
      "_________________________________________________________________\n",
      "dropout_9 (Dropout)          (None, 25100)             0         \n",
      "_________________________________________________________________\n",
      "dense_28 (Dense)             (None, 128)               3212928   \n",
      "_________________________________________________________________\n",
      "dense_29 (Dense)             (None, 64)                8256      \n",
      "_________________________________________________________________\n",
      "dense_30 (Dense)             (None, 1)                 65        \n",
      "=================================================================\n",
      "Total params: 3,223,349\n",
      "Trainable params: 3,223,349\n",
      "Non-trainable params: 0\n",
      "_________________________________________________________________\n"
     ]
    },
    {
     "name": "stderr",
     "output_type": "stream",
     "text": [
      "/Users/johnwilson/anaconda/envs/ztdl/lib/python3.5/site-packages/ipykernel_launcher.py:2: UserWarning: Update your `Conv1D` call to the Keras 2 API: `Conv1D(input_shape=(270, 1), kernel_size=20, filters=100)`\n",
      "  \n"
     ]
    }
   ],
   "source": [
    "covmodel2 = Sequential()\n",
    "covmodel2.add( Convolution1D( nb_filter=100, filter_length=20, input_shape=(A.shape[1], 1)))\n",
    "covmodel2.add(Activation('relu'))\n",
    "#model_m.add(MaxPooling1D(3))\n",
    "covmodel2.add(Flatten())\n",
    "covmodel2.add(Dropout(0.4))\n",
    "covmodel2.add(Dense(128, activation='relu'))\n",
    "covmodel2.add(Dense(64, activation='relu'))\n",
    "covmodel2.add(Dense(1))\n",
    "covmodel2.compile(optimizer='rmsprop', loss='mse', metrics=['mae'])\n",
    "covmodel2.summary()"
   ]
  },
  {
   "cell_type": "code",
   "execution_count": 148,
   "metadata": {},
   "outputs": [
    {
     "data": {
      "text/plain": [
       "(20000,)"
      ]
     },
     "execution_count": 148,
     "metadata": {},
     "output_type": "execute_result"
    }
   ],
   "source": [
    "yval.shape"
   ]
  },
  {
   "cell_type": "code",
   "execution_count": 152,
   "metadata": {},
   "outputs": [
    {
     "name": "stdout",
     "output_type": "stream",
     "text": [
      "Train on 20000 samples, validate on 4000 samples\n",
      "Epoch 1/20\n",
      "20000/20000 [==============================] - 30s 1ms/step - loss: 1.3761 - mean_absolute_error: 0.3838 - val_loss: 0.1315 - val_mean_absolute_error: 0.2402\n",
      "Epoch 2/20\n",
      "20000/20000 [==============================] - 28s 1ms/step - loss: 0.1354 - mean_absolute_error: 0.2381 - val_loss: 0.1329 - val_mean_absolute_error: 0.2462\n",
      "Epoch 3/20\n",
      "20000/20000 [==============================] - 28s 1ms/step - loss: 0.1265 - mean_absolute_error: 0.2237 - val_loss: 0.1827 - val_mean_absolute_error: 0.3182\n",
      "Epoch 4/20\n",
      "20000/20000 [==============================] - 29s 1ms/step - loss: 0.1227 - mean_absolute_error: 0.2181 - val_loss: 0.1162 - val_mean_absolute_error: 0.2155\n",
      "Epoch 5/20\n",
      "20000/20000 [==============================] - 30s 1ms/step - loss: 0.1193 - mean_absolute_error: 0.2131 - val_loss: 0.1258 - val_mean_absolute_error: 0.2347\n",
      "Epoch 6/20\n",
      "20000/20000 [==============================] - 28s 1ms/step - loss: 0.1181 - mean_absolute_error: 0.2119 - val_loss: 0.1161 - val_mean_absolute_error: 0.2156\n",
      "Epoch 7/20\n",
      "20000/20000 [==============================] - 25s 1ms/step - loss: 0.1162 - mean_absolute_error: 0.2101 - val_loss: 0.1147 - val_mean_absolute_error: 0.2111\n",
      "Epoch 8/20\n",
      "20000/20000 [==============================] - 25s 1ms/step - loss: 0.1148 - mean_absolute_error: 0.2081 - val_loss: 0.1253 - val_mean_absolute_error: 0.2347\n",
      "Epoch 9/20\n",
      "20000/20000 [==============================] - 24s 1ms/step - loss: 0.1136 - mean_absolute_error: 0.2061 - val_loss: 0.1331 - val_mean_absolute_error: 0.2454\n",
      "Epoch 10/20\n",
      "20000/20000 [==============================] - 29s 1ms/step - loss: 0.1126 - mean_absolute_error: 0.2058 - val_loss: 0.1137 - val_mean_absolute_error: 0.2104\n",
      "Epoch 11/20\n",
      "20000/20000 [==============================] - 28s 1ms/step - loss: 0.1112 - mean_absolute_error: 0.2035 - val_loss: 0.1262 - val_mean_absolute_error: 0.2343\n",
      "Epoch 12/20\n",
      "20000/20000 [==============================] - 37s 2ms/step - loss: 0.1103 - mean_absolute_error: 0.2024 - val_loss: 0.1165 - val_mean_absolute_error: 0.2182\n",
      "Epoch 13/20\n",
      "20000/20000 [==============================] - 22s 1ms/step - loss: 0.1080 - mean_absolute_error: 0.2008 - val_loss: 0.1145 - val_mean_absolute_error: 0.2109\n",
      "Epoch 14/20\n",
      "20000/20000 [==============================] - 21s 1ms/step - loss: 0.1074 - mean_absolute_error: 0.2002 - val_loss: 0.1173 - val_mean_absolute_error: 0.2162\n",
      "Epoch 15/20\n",
      "20000/20000 [==============================] - 21s 1ms/step - loss: 0.1062 - mean_absolute_error: 0.1993 - val_loss: 0.1167 - val_mean_absolute_error: 0.2157\n",
      "Epoch 16/20\n",
      "20000/20000 [==============================] - 22s 1ms/step - loss: 0.1041 - mean_absolute_error: 0.1983 - val_loss: 0.1238 - val_mean_absolute_error: 0.2312\n",
      "Epoch 17/20\n",
      "20000/20000 [==============================] - 27s 1ms/step - loss: 0.1022 - mean_absolute_error: 0.1954 - val_loss: 0.1294 - val_mean_absolute_error: 0.2349\n",
      "Epoch 18/20\n",
      "20000/20000 [==============================] - 25s 1ms/step - loss: 0.1003 - mean_absolute_error: 0.1945 - val_loss: 0.1190 - val_mean_absolute_error: 0.2204\n",
      "Epoch 19/20\n",
      "20000/20000 [==============================] - 24s 1ms/step - loss: 0.0983 - mean_absolute_error: 0.1934 - val_loss: 0.1273 - val_mean_absolute_error: 0.2360\n",
      "Epoch 20/20\n",
      "20000/20000 [==============================] - 24s 1ms/step - loss: 0.0961 - mean_absolute_error: 0.1914 - val_loss: 0.1192 - val_mean_absolute_error: 0.2194\n"
     ]
    },
    {
     "data": {
      "text/plain": [
       "[<matplotlib.lines.Line2D at 0x119553710>]"
      ]
     },
     "execution_count": 152,
     "metadata": {},
     "output_type": "execute_result"
    },
    {
     "data": {
      "image/png": "[encoded data removed]",
      "text/plain": [
       "<Figure size 432x288 with 1 Axes>"
      ]
     },
     "metadata": {},
     "output_type": "display_data"
    }
   ],
   "source": [
    "hc = covmodel2.fit(Aval.reshape(20000,270,1), yval.reshape(-1,1), batch_size=128, epochs=20, verbose=1,validation_data=(A.reshape(4000,270,1), y.reshape(-1,1)))\n",
    "plt.plot(hc.history['loss'])\n",
    "plt.plot(hc.history['val_loss'])"
   ]
  },
  {
   "cell_type": "code",
   "execution_count": 350,
   "metadata": {},
   "outputs": [
    {
     "name": "stdout",
     "output_type": "stream",
     "text": [
      "Train on 80000 samples, validate on 30000 samples\n",
      "Epoch 1/1\n",
      "80000/80000 [==============================] - 1229s - loss: 0.2100 - mean_absolute_error: 0.3611 - val_loss: 0.1661 - val_mean_absolute_error: 0.3396\n"
     ]
    },
    {
     "data": {
      "text/plain": [
       "[<matplotlib.lines.Line2D at 0x12a109710>]"
      ]
     },
     "execution_count": 350,
     "metadata": {},
     "output_type": "execute_result"
    },
    {
     "data": {
      "image/png": "[encoded data removed]",
      "text/plain": [
       "<Figure size 432x288 with 1 Axes>"
      ]
     },
     "metadata": {},
     "output_type": "display_data"
    }
   ],
   "source": [
    "hc = covmodel2.fit(A.reshape(80000,370,1), y, batch_size=128, epochs=1, verbose=1,validation_data=(Aval.reshape(30000,370,1), yval))\n",
    "plt.plot(hc.history['loss'])\n",
    "plt.plot(hc.history['val_loss'])"
   ]
  },
  {
   "cell_type": "code",
   "execution_count": 349,
   "metadata": {},
   "outputs": [
    {
     "name": "stdout",
     "output_type": "stream",
     "text": [
      "_________________________________________________________________\n",
      "Layer (type)                 Output Shape              Param #   \n",
      "=================================================================\n",
      "conv1d_21 (Conv1D)           (None, 361, 100)          1100      \n",
      "_________________________________________________________________\n",
      "conv1d_22 (Conv1D)           (None, 352, 100)          100100    \n",
      "_________________________________________________________________\n",
      "max_pooling1d_3 (MaxPooling1 (None, 117, 100)          0         \n",
      "_________________________________________________________________\n",
      "conv1d_23 (Conv1D)           (None, 108, 160)          160160    \n",
      "_________________________________________________________________\n",
      "conv1d_24 (Conv1D)           (None, 99, 160)           256160    \n",
      "_________________________________________________________________\n",
      "global_average_pooling1d_2 ( (None, 160)               0         \n",
      "_________________________________________________________________\n",
      "dropout_12 (Dropout)         (None, 160)               0         \n",
      "_________________________________________________________________\n",
      "dense_97 (Dense)             (None, 128)               20608     \n",
      "_________________________________________________________________\n",
      "dense_98 (Dense)             (None, 64)                8256      \n",
      "_________________________________________________________________\n",
      "dense_99 (Dense)             (None, 1)                 65        \n",
      "=================================================================\n",
      "Total params: 546,449\n",
      "Trainable params: 546,449\n",
      "Non-trainable params: 0\n",
      "_________________________________________________________________\n"
     ]
    },
    {
     "name": "stderr",
     "output_type": "stream",
     "text": [
      "/Users/johnwilson/anaconda/envs/ztdl/lib/python3.5/site-packages/ipykernel_launcher.py:2: UserWarning: Update your `Conv1D` call to the Keras 2 API: `Conv1D(kernel_size=10, filters=100, input_shape=(370, 1))`\n",
      "  \n"
     ]
    }
   ],
   "source": [
    "model_m = Sequential()\n",
    "model_m.add( Convolution1D( nb_filter=100, filter_length=10, input_shape=(A.shape[1], 1)))\n",
    "model_m.add(Convolution1D(100, 10, activation='relu'))\n",
    "model_m.add(MaxPooling1D(3))\n",
    "model_m.add(Convolution1D(160, 10, activation='relu'))\n",
    "model_m.add(Convolution1D(160, 10, activation='relu'))\n",
    "model_m.add(GlobalAveragePooling1D())\n",
    "model_m.add(Dropout(0.5))\n",
    "\n",
    "model_m.add(Dense(128, activation='relu'))\n",
    "model_m.add(Dense(64, activation='relu'))\n",
    "model_m.add(Dense(1))\n",
    "model_m.compile(optimizer='rmsprop', loss='mse', metrics=['mae'])\n",
    "model_m.summary()"
   ]
  },
  {
   "cell_type": "code",
   "execution_count": 146,
   "metadata": {},
   "outputs": [],
   "source": [
    "yfitc = covmodel1.predict(Aval.reshape(60000,170,1))"
   ]
  },
  {
   "cell_type": "code",
   "execution_count": 147,
   "metadata": {},
   "outputs": [
    {
     "data": {
      "text/plain": [
       "[<matplotlib.lines.Line2D at 0xc801a5bda0>]"
      ]
     },
     "execution_count": 147,
     "metadata": {},
     "output_type": "execute_result"
    },
    {
     "data": {
      "image/png": "[encoded data removed]",
      "text/plain": [
       "<matplotlib.figure.Figure at 0xc801c56208>"
      ]
     },
     "metadata": {},
     "output_type": "display_data"
    }
   ],
   "source": [
    "plt.plot(yval,yfitc,'bo')"
   ]
  },
  {
   "cell_type": "code",
   "execution_count": 148,
   "metadata": {},
   "outputs": [
    {
     "data": {
      "text/plain": [
       "array([[ 1.        ,  0.94246068],\n",
       "       [ 0.94246068,  1.        ]])"
      ]
     },
     "execution_count": 148,
     "metadata": {},
     "output_type": "execute_result"
    }
   ],
   "source": [
    "np.corrcoef(yval.T,yfitc.T)"
   ]
  },
  {
   "cell_type": "code",
   "execution_count": 1365,
   "metadata": {},
   "outputs": [],
   "source": [
    "maxvals = np.max(A,axis = 1).reshape(-1,1)\n",
    "minvals = np.min(A,axis=1).reshape(-1,1)\n",
    "As = (A-minvals)/(maxvals-minvals)\n",
    "y = (y-minvals)/(maxvals-minvals)\n",
    "\n",
    "maxvals = np.max(Aval,axis = 1).reshape(-1,1)\n",
    "minvals = np.min(Aval,axis=1).reshape(-1,1)\n",
    "Avals = (Aval-minvals)/(maxvals-minvals)\n",
    "yval = (yval-minvals)/(maxvals-minvals)"
   ]
  },
  {
   "cell_type": "code",
   "execution_count": 1366,
   "metadata": {},
   "outputs": [
    {
     "data": {
      "text/plain": [
       "array([-0.47448836])"
      ]
     },
     "execution_count": 1366,
     "metadata": {},
     "output_type": "execute_result"
    }
   ],
   "source": [
    "y[1]"
   ]
  },
  {
   "cell_type": "code",
   "execution_count": 1396,
   "metadata": {},
   "outputs": [],
   "source": [
    "list1 = []\n",
    "a = np.random.rand(10,1)\n",
    "list1.append(a)"
   ]
  },
  {
   "cell_type": "code",
   "execution_count": 1399,
   "metadata": {},
   "outputs": [],
   "source": [
    "list1.append(a)"
   ]
  },
  {
   "cell_type": "code",
   "execution_count": 1400,
   "metadata": {},
   "outputs": [
    {
     "data": {
      "text/plain": [
       "(4, 10, 1)"
      ]
     },
     "execution_count": 1400,
     "metadata": {},
     "output_type": "execute_result"
    }
   ],
   "source": [
    "np.array(list1).shape"
   ]
  },
  {
   "cell_type": "code",
   "execution_count": 99,
   "metadata": {},
   "outputs": [
    {
     "name": "stdout",
     "output_type": "stream",
     "text": [
      "-1.0\n",
      "-0.9\n",
      "-0.8\n",
      "-0.7\n",
      "-0.6\n",
      "-0.5\n",
      "-0.4\n",
      "-0.3\n",
      "-0.2\n",
      "-0.1\n",
      "-2.22044604925e-16\n",
      "0.1\n",
      "0.2\n",
      "0.3\n",
      "0.4\n",
      "0.5\n",
      "0.6\n",
      "0.7\n",
      "0.8\n",
      "0.9\n"
     ]
    }
   ],
   "source": [
    "for p in np.arange(-1,1,.1):\n",
    "    print(p)"
   ]
  },
  {
   "cell_type": "code",
   "execution_count": 44,
   "metadata": {},
   "outputs": [],
   "source": [
    "#imports\n",
    "%matplotlib inline\n",
    "import matplotlib.pyplot as plt\n",
    "import os\n",
    "import numpy as np\n",
    "import pandas as pd\n",
    "\n",
    "#params\n",
    "series_length = 200\n",
    "n_mix = 3\n",
    "path = '/Users/johnwilson/Documents/EquityData/'\n",
    "\n",
    "def getCsvFiles(path):\n",
    "    from os import listdir\n",
    "    from os.path import isfile, join\n",
    "    onlyfiles = [f for f in listdir(path) if isfile(join(path, f))]\n",
    "    csvs = [f for f in onlyfiles if f.split('.')[1] == 'csv']\n",
    "    return csvs\n",
    "\n",
    "def generateSyntheticStockSeries(seriesLength):\n",
    "    csvlist = np.array(getCsvFiles(path))\n",
    "    n_files = len(csvlist)\n",
    "    np.random.shuffle(csvlist)\n",
    "    nstart = np.random.randint(78000)\n",
    "    indata = pd.read_csv(path+csvlist[0],header=None)\n",
    "    indata = indata[4].values\n",
    "    dataseries = np.random.randn(1)*indata[nstart:(nstart+seriesLength)]\n",
    "    for j in range (1,n_mix):\n",
    "        indata = pd.read_csv(path+csvlist[j],header=None)\n",
    "        indata = indata[4].values\n",
    "        dataseries += np.random.randn(1)*indata[(nstart+seriesLength)]\n",
    "    #normalize on first half\n",
    "    a = np.max(dataseries[0:np.round(seriesLength*.9).astype(int)])\n",
    "    b = np.min(dataseries[0:np.round(seriesLength*.9).astype(int)])\n",
    "    dataseries = (dataseries-b)/(a-b)\n",
    "    #dataseries = dataseries[1500:-1]        \n",
    "    return dataseries"
   ]
  },
  {
   "cell_type": "code",
   "execution_count": 43,
   "metadata": {},
   "outputs": [
    {
     "data": {
      "text/plain": [
       "numpy.int64"
      ]
     },
     "execution_count": 43,
     "metadata": {},
     "output_type": "execute_result"
    }
   ],
   "source": [
    "type(np.round(102.1).astype(int))"
   ]
  },
  {
   "cell_type": "code",
   "execution_count": null,
   "metadata": {},
   "outputs": [],
   "source": []
  }
 ],
 "metadata": {
  "kernelspec": {
   "display_name": "Python 3",
   "language": "python",
   "name": "python3"
  },
  "language_info": {
   "codemirror_mode": {
    "name": "ipython",
    "version": 3
   },
   "file_extension": ".py",
   "mimetype": "text/x-python",
   "name": "python",
   "nbconvert_exporter": "python",
   "pygments_lexer": "ipython3",
   "version": "3.5.5"
  }
 },
 "nbformat": 4,
 "nbformat_minor": 2
}
