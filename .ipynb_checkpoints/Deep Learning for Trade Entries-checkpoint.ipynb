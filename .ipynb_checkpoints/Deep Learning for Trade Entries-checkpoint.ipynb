{
 "cells": [
  {
   "cell_type": "markdown",
   "metadata": {},
   "source": [
    "# First Deep Learning Model"
   ]
  },
  {
   "cell_type": "code",
   "execution_count": 443,
   "metadata": {},
   "outputs": [],
   "source": [
    "import numpy as np\n",
    "%matplotlib inline\n",
    "import matplotlib.pyplot as plt\n",
    "import pandas as pd\n",
    "from sklearn.preprocessing import MinMaxScaler\n",
    "import matplotlib.pyplot as plt\n",
    "import seaborn as sns"
   ]
  },
  {
   "cell_type": "markdown",
   "metadata": {},
   "source": [
    "<pre># [X,y,entryindex,exitindex] = extractEntries(eur,0,j/5);\n",
    "\n",
    "using Matlab Code:\n",
    "function [X,y,entryindex,exitindex] = extractEntries(data,stopgain,istop)\n",
    "% O\tH\tL\tC\tCdelta\tMA5\tMA14\tMA60\tMA200\tMA1000\tDelta5\tSigma5\tDelta14\tDelta 60\tDelta200\tS14\tS60\tS200\tS1000\tSC14\tSC60\tSC200\tSC1000\n",
    "tradeopen = 0;\n",
    "entry = 0;\n",
    "exit = 0;\n",
    "X = [];\n",
    "y = [];\n",
    "entryindex = []\n",
    "exitindex = []\n",
    "for j = 1:length(data)\n",
    "    O = data(j,1);\n",
    "    C = data(j,4);\n",
    "    MA14 = data(j,7);\n",
    "    delta5 = data(j,11);\n",
    "    if(~tradeopen)         \n",
    "        if(C>MA14&&O<MA14) %enter on close over MA14\n",
    "            tradeopen =1;\n",
    "            X = [X;data(j,:)];   \n",
    "            entryindex = [entryindex;j]; %index of entry\n",
    "            entry = data(j+1,1); %enter on next bar open\n",
    "        end  \n",
    "    else\n",
    "        if(C<(MA14-delta5*stopgain) || j == length(data) || C<(entry-delta5*istop)) %exit on close below MA14\n",
    "            tradeopen =0;           \n",
    "            exitindex = [exitindex;j]; %index of exit\n",
    "            exit = data(j+1,1); %eexitnter on next bar open\n",
    "            delta = exit - entry;\n",
    "            y = [y,delta];\n",
    "        end  \n",
    "    end\n",
    "end</pre>"
   ]
  },
  {
   "cell_type": "code",
   "execution_count": 31,
   "metadata": {},
   "outputs": [],
   "source": [
    "X = pd.read_csv(\"//bvt-fs-01//Users$//jwwilson//Documents//Historical//X.csv\",header=None).values\n",
    "y = pd.read_csv(\"//bvt-fs-01//Users$//jwwilson//Documents//Historical//y.csv\",header=None).values.reshape(-1,1)"
   ]
  },
  {
   "cell_type": "code",
   "execution_count": 184,
   "metadata": {},
   "outputs": [],
   "source": [
    "ys = np.zeros(y.shape)\n",
    "for j in range(1,len(y)):\n",
    "    if y[j]>1e-4:\n",
    "        ys[j] = 1\n",
    "from keras.utils.np_utils import to_categorical\n",
    "y_train_cat = to_categorical(ys)"
   ]
  },
  {
   "cell_type": "code",
   "execution_count": 123,
   "metadata": {},
   "outputs": [],
   "source": [
    "scaler = MinMaxScaler()\n",
    "scaler.fit(X)\n",
    "Xs = scaler.transform(X)"
   ]
  },
  {
   "cell_type": "code",
   "execution_count": 299,
   "metadata": {},
   "outputs": [],
   "source": [
    "from keras.models import Sequential\n",
    "from keras.layers import Dense\n",
    "from keras.optimizers import SGD"
   ]
  },
  {
   "cell_type": "code",
   "execution_count": 324,
   "metadata": {},
   "outputs": [],
   "source": [
    "model = Sequential()\n",
    "model.add(Dense(23, input_shape=(23,), activation='relu'))\n",
    "model.add(Dense(23, input_shape=(23,), activation='relu'))\n",
    "model.add(Dense(23, input_shape=(23,), activation='relu'))\n"
   ]
  },
  {
   "cell_type": "code",
   "execution_count": 325,
   "metadata": {},
   "outputs": [],
   "source": [
    "model.add(Dense(2, activation='softmax'))\n",
    "model.compile(loss='categorical_crossentropy',\n",
    "              optimizer='rmsprop',\n",
    "              metrics=['accuracy'])"
   ]
  },
  {
   "cell_type": "code",
   "execution_count": 326,
   "metadata": {},
   "outputs": [
    {
     "name": "stdout",
     "output_type": "stream",
     "text": [
      "_________________________________________________________________\n",
      "Layer (type)                 Output Shape              Param #   \n",
      "=================================================================\n",
      "dense_25 (Dense)             (None, 23)                552       \n",
      "_________________________________________________________________\n",
      "dense_26 (Dense)             (None, 23)                552       \n",
      "_________________________________________________________________\n",
      "dense_27 (Dense)             (None, 23)                552       \n",
      "_________________________________________________________________\n",
      "dense_28 (Dense)             (None, 2)                 48        \n",
      "=================================================================\n",
      "Total params: 1,704\n",
      "Trainable params: 1,704\n",
      "Non-trainable params: 0\n",
      "_________________________________________________________________\n"
     ]
    }
   ],
   "source": [
    "model.summary()"
   ]
  },
  {
   "cell_type": "code",
   "execution_count": 332,
   "metadata": {},
   "outputs": [],
   "source": [
    "h = model.fit(Xs, y_train_cat, batch_size=128, epochs=10000, verbose=0)"
   ]
  },
  {
   "cell_type": "code",
   "execution_count": 334,
   "metadata": {},
   "outputs": [
    {
     "data": {
      "text/plain": [
       "[<matplotlib.lines.Line2D at 0xd3ab925da0>]"
      ]
     },
     "execution_count": 334,
     "metadata": {},
     "output_type": "execute_result"
    },
    {
     "data": {
      "image/png": "[encoded data removed]",
      "text/plain": [
       "<matplotlib.figure.Figure at 0xd3abb18978>"
      ]
     },
     "metadata": {},
     "output_type": "display_data"
    }
   ],
   "source": [
    "plt.plot(h.history['acc'])"
   ]
  },
  {
   "cell_type": "code",
   "execution_count": 340,
   "metadata": {},
   "outputs": [
    {
     "data": {
      "text/plain": [
       "[<matplotlib.lines.Line2D at 0xd3abbce550>]"
      ]
     },
     "execution_count": 340,
     "metadata": {},
     "output_type": "execute_result"
    },
    {
     "data": {
      "image/png": "[encoded data removed]",
      "text/plain": [
       "<matplotlib.figure.Figure at 0xd3ab84e358>"
      ]
     },
     "metadata": {},
     "output_type": "display_data"
    }
   ],
   "source": [
    "ynns = model.predict(Xs)\n",
    "ynnsp = ynns[:,1]\n",
    "plt.plot(ynnsp,y,'ob')"
   ]
  },
  {
   "cell_type": "code",
   "execution_count": 584,
   "metadata": {},
   "outputs": [],
   "source": [
    "pf = []\n",
    "xx = []\n",
    "n = []\n",
    "for j in range(0,100):\n",
    "    pf.append(sum(y[ynnsp>j/100]))\n",
    "    n.append(sum(ynnsp>j/100))\n",
    "    xx.append(j)\n",
    "pf = np.array(pf)\n",
    "n = np.array(n).reshape(-1,1)\n",
    "xx = np.array(xx)\n"
   ]
  },
  {
   "cell_type": "code",
   "execution_count": 1,
   "metadata": {},
   "outputs": [
    {
     "ename": "NameError",
     "evalue": "name 'plt' is not defined",
     "output_type": "error",
     "traceback": [
      "\u001b[0;31m---------------------------------------------------------------------------\u001b[0m",
      "\u001b[0;31mNameError\u001b[0m                                 Traceback (most recent call last)",
      "\u001b[0;32m<ipython-input-1-ce5ba73811e6>\u001b[0m in \u001b[0;36m<module>\u001b[0;34m()\u001b[0m\n\u001b[0;32m----> 1\u001b[0;31m \u001b[0mplt\u001b[0m\u001b[0;34m.\u001b[0m\u001b[0mplot\u001b[0m\u001b[0;34m(\u001b[0m\u001b[0mxx\u001b[0m\u001b[0;34m,\u001b[0m\u001b[0mpf\u001b[0m\u001b[0;34m/\u001b[0m\u001b[0mn\u001b[0m\u001b[0;34m,\u001b[0m\u001b[0;34m'ob'\u001b[0m\u001b[0;34m)\u001b[0m\u001b[0;34m\u001b[0m\u001b[0m\n\u001b[0m",
      "\u001b[0;31mNameError\u001b[0m: name 'plt' is not defined"
     ]
    }
   ],
   "source": [
    "plt.plot(xx,pf/n,'ob')"
   ]
  },
  {
   "cell_type": "code",
   "execution_count": 440,
   "metadata": {},
   "outputs": [],
   "source": [
    "#get predictions and p_success\n",
    "ynns = model.predict(Xs)\n",
    "ynnsp = ynns[:,1]"
   ]
  },
  {
   "cell_type": "code",
   "execution_count": 441,
   "metadata": {},
   "outputs": [],
   "source": [
    "def tradeStats(results):\n",
    "    \n",
    "    #total profit\n",
    "    total_profit = results.sum()\n",
    "    number_of_trades = len(results)\n",
    "    \n",
    "    #probability of a win, loss or breakeven\n",
    "    p_win = (results>0).sum()/len(results)\n",
    "    p_loss = (results<0).sum()/len(results)\n",
    "    p_be = (results==0).sum()/len(results)\n",
    "    \n",
    "    #Average Winner and loser\n",
    "    size_win = results[results>0].sum()/ (results>0).sum()*10000\n",
    "    size_loss = -results[results<0].sum()/ (results<0).sum()*10000\n",
    "    rr = size_win/size_loss\n",
    "    pips_without_fees = total_profit*10000\n",
    "    pips_with_estimated_fees = total_profit*10000-number_of_trades*1.2\n",
    "    return(total_profit,number_of_trades,p_win,p_loss,p_be,size_win,size_loss,rr,pips_without_fees,pips_with_estimated_fees)"
   ]
  },
  {
   "cell_type": "code",
   "execution_count": 518,
   "metadata": {},
   "outputs": [
    {
     "data": {
      "text/plain": [
       "(0.084919999999999995,\n",
       " 116,\n",
       " 0.97413793103448276,\n",
       " 0.025862068965517241,\n",
       " 0.0,\n",
       " 7.5743362831858407,\n",
       " 2.2333333333333334,\n",
       " 3.3914938581429137,\n",
       " 849.19999999999993,\n",
       " 710.0)"
      ]
     },
     "execution_count": 518,
     "metadata": {},
     "output_type": "execute_result"
    }
   ],
   "source": [
    "tradeStats(y[ynnsp>98/100])"
   ]
  },
  {
   "cell_type": "code",
   "execution_count": 448,
   "metadata": {},
   "outputs": [
    {
     "data": {
      "text/plain": [
       "13966.817496229261"
      ]
     },
     "execution_count": 448,
     "metadata": {},
     "output_type": "execute_result"
    }
   ],
   "source": [
    "926*(100/2.21)/3"
   ]
  },
  {
   "cell_type": "code",
   "execution_count": null,
   "metadata": {},
   "outputs": [],
   "source": []
  },
  {
   "cell_type": "code",
   "execution_count": null,
   "metadata": {},
   "outputs": [],
   "source": [
    "top_five2 = ynnsp2>"
   ]
  },
  {
   "cell_type": "code",
   "execution_count": 425,
   "metadata": {},
   "outputs": [],
   "source": [
    "np.savetxt(\"//bvt-fs-01/Users$/jwwilson/Documents/Historical/top_five.csv\", top_five, delimiter=\",\")"
   ]
  },
  {
   "cell_type": "code",
   "execution_count": 466,
   "metadata": {},
   "outputs": [],
   "source": [
    "Xsr = Xs[:,10:]"
   ]
  },
  {
   "cell_type": "code",
   "execution_count": 467,
   "metadata": {},
   "outputs": [
    {
     "data": {
      "text/plain": [
       "(8789, 13)"
      ]
     },
     "execution_count": 467,
     "metadata": {},
     "output_type": "execute_result"
    }
   ],
   "source": [
    "Xsr.shape"
   ]
  },
  {
   "cell_type": "code",
   "execution_count": 468,
   "metadata": {},
   "outputs": [],
   "source": [
    "model2 = Sequential()\n",
    "model2.add(Dense(13, input_shape=(13,), activation='relu'))\n",
    "model2.add(Dense(13, input_shape=(13,), activation='relu'))\n",
    "model2.add(Dense(13, input_shape=(13,), activation='relu'))\n",
    "model2.add(Dense(2, activation='softmax'))\n",
    "model2.compile(loss='categorical_crossentropy',\n",
    "              optimizer='rmsprop',\n",
    "              metrics=['accuracy'])"
   ]
  },
  {
   "cell_type": "code",
   "execution_count": 474,
   "metadata": {},
   "outputs": [
    {
     "name": "stdout",
     "output_type": "stream",
     "text": [
      "_________________________________________________________________\n",
      "Layer (type)                 Output Shape              Param #   \n",
      "=================================================================\n",
      "dense_37 (Dense)             (None, 13)                182       \n",
      "_________________________________________________________________\n",
      "dense_38 (Dense)             (None, 13)                182       \n",
      "_________________________________________________________________\n",
      "dense_39 (Dense)             (None, 13)                182       \n",
      "_________________________________________________________________\n",
      "dense_40 (Dense)             (None, 2)                 28        \n",
      "=================================================================\n",
      "Total params: 574\n",
      "Trainable params: 574\n",
      "Non-trainable params: 0\n",
      "_________________________________________________________________\n"
     ]
    }
   ],
   "source": [
    "model2.summary()"
   ]
  },
  {
   "cell_type": "code",
   "execution_count": 470,
   "metadata": {},
   "outputs": [],
   "source": [
    "h2 = model2.fit(Xsr, y_train_cat, batch_size=128, epochs=10000, verbose=0)"
   ]
  },
  {
   "cell_type": "code",
   "execution_count": 476,
   "metadata": {},
   "outputs": [
    {
     "data": {
      "text/plain": [
       "[<matplotlib.lines.Line2D at 0xd3ae58a630>]"
      ]
     },
     "execution_count": 476,
     "metadata": {},
     "output_type": "execute_result"
    },
    {
     "data": {
      "image/png": "[encoded data removed]",
      "text/plain": [
       "<matplotlib.figure.Figure at 0xd3afeabf98>"
      ]
     },
     "metadata": {},
     "output_type": "display_data"
    }
   ],
   "source": [
    "ynns2 = model2.predict(Xsr)\n",
    "ynnsp2 = ynns2[:,1]\n",
    "plt.plot(ynnsp2,y,'ob')"
   ]
  },
  {
   "cell_type": "code",
   "execution_count": 597,
   "metadata": {},
   "outputs": [],
   "source": [
    "pf = []\n",
    "xx = []\n",
    "n = []\n",
    "pw = []\n",
    "for j in range(0,98):\n",
    "    pf.append(sum(y[ynnsp2>j/100]))\n",
    "    ts = tradeStats(y[ynnsp2>j/100])\n",
    "    pw.append(ts[9])\n",
    "    n.append(sum(ynnsp2>j/100))\n",
    "    xx.append(j)\n",
    "pf = np.array(pf)\n",
    "n = np.array(n).reshape(-1,1)\n",
    "xx = np.array(xx)\n"
   ]
  },
  {
   "cell_type": "code",
   "execution_count": 599,
   "metadata": {},
   "outputs": [
    {
     "data": {
      "text/plain": [
       "(0, 250)"
      ]
     },
     "execution_count": 599,
     "metadata": {},
     "output_type": "execute_result"
    },
    {
     "data": {
      "image/png": "[encoded data removed]",
      "text/plain": [
       "<matplotlib.figure.Figure at 0xd3b5e6ebe0>"
      ]
     },
     "metadata": {},
     "output_type": "display_data"
    }
   ],
   "source": [
    "plt.plot(xx,pw,'ob')\n",
    "axes = plt.gca()\n",
    "axes.set_ylim([0,250])"
   ]
  },
  {
   "cell_type": "code",
   "execution_count": null,
   "metadata": {},
   "outputs": [],
   "source": []
  },
  {
   "cell_type": "code",
   "execution_count": 539,
   "metadata": {},
   "outputs": [
    {
     "data": {
      "text/plain": [
       "(0.033150000000000006,\n",
       " 2385,\n",
       " 0.33207547169811319,\n",
       " 0.64821802935010486,\n",
       " 0.019706498951781972,\n",
       " 3.731060606060606,\n",
       " 1.6969598965071149,\n",
       " 2.198673412224013,\n",
       " 331.50000000000006,\n",
       " -2530.5)"
      ]
     },
     "execution_count": 539,
     "metadata": {},
     "output_type": "execute_result"
    }
   ],
   "source": [
    "ts"
   ]
  },
  {
   "cell_type": "code",
   "execution_count": 487,
   "metadata": {},
   "outputs": [
    {
     "data": {
      "text/plain": [
       "0.91891891891891897"
      ]
     },
     "execution_count": 487,
     "metadata": {},
     "output_type": "execute_result"
    }
   ],
   "source": [
    "ts[2]"
   ]
  },
  {
   "cell_type": "code",
   "execution_count": 573,
   "metadata": {},
   "outputs": [
    {
     "data": {
      "text/plain": [
       "20000"
      ]
     },
     "execution_count": 573,
     "metadata": {},
     "output_type": "execute_result"
    }
   ],
   "source": [
    "200*100"
   ]
  },
  {
   "cell_type": "code",
   "execution_count": null,
   "metadata": {},
   "outputs": [],
   "source": []
  }
 ],
 "metadata": {
  "kernelspec": {
   "display_name": "Python 3",
   "language": "python",
   "name": "python3"
  },
  "language_info": {
   "codemirror_mode": {
    "name": "ipython",
    "version": 3
   },
   "file_extension": ".py",
   "mimetype": "text/x-python",
   "name": "python",
   "nbconvert_exporter": "python",
   "pygments_lexer": "ipython3",
   "version": "3.5.5"
  }
 },
 "nbformat": 4,
 "nbformat_minor": 2
}
