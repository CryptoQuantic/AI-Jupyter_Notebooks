{
 "cells": [
  {
   "cell_type": "code",
   "execution_count": 346,
   "metadata": {},
   "outputs": [],
   "source": [
    "%matplotlib inline\n",
    "import numpy as np\n",
    "import pandas as pd\n",
    "import seaborn as sns\n",
    "from keras import layers\n",
    "from tqdm import tqdm\n",
    "from keras.layers import Dense, Activation, Flatten, Convolution1D, Dropout,MaxPooling1D,GlobalAveragePooling1D\n",
    "import matplotlib.pyplot as plt\n",
    "from keras.optimizers import SGD\n",
    "from keras.models import Sequential\n",
    "from sklearn.preprocessing import MinMaxScaler\n",
    "from keras.utils.np_utils import to_categorical\n",
    "from sklearn.model_selection import train_test_split\n",
    "from sklearn"
   ]
  },
  {
   "cell_type": "code",
   "execution_count": 2,
   "metadata": {},
   "outputs": [],
   "source": [
    "#genearte a complex time series\n",
    "def generateTimeSeries(length,p1,ncomps):\n",
    "    xx = np.arange(length)\n",
    "    y = 0;\n",
    "    for j in range(0,ncomps):\n",
    "        period = np.random.rand(1)\n",
    "        phase  = np.random.randint(length)\n",
    "        y =  y+np.sin((xx+phase)*period/6.28)/period\n",
    "    return y\n",
    "def generateCumSum(length,p1,ncomps):\n",
    "    xx = np.random.randn(length)\n",
    "    return np.cumsum(xx)\n",
    "\n",
    "#takes a time series and splits it at a fraction of its length, and returns a point at the and for predicting.\n",
    "def generateXy(series,fraction):\n",
    "    xlen = series.shape[0]*fraction\n",
    "    xlen = int(round(xlen))\n",
    "    X = series[0:xlen]\n",
    "    y = series[-1]\n",
    "    return (X,y)"
   ]
  },
  {
   "cell_type": "code",
   "execution_count": 443,
   "metadata": {},
   "outputs": [],
   "source": [
    "def makeDataset(n): \n",
    "    A = []\n",
    "    y = []\n",
    "    for j in tqdm(range(0,n)):\n",
    "        # Xtemp,ytemp = generateXy(generateCumSum(200,1,4),.5)\n",
    "        Xtemp,ytemp = generateXy(generateTimeSeries(200,1,3),.85)\n",
    "        Xtemp = Xtemp.reshape(-1,1)\n",
    "        ytemp = ytemp.reshape(-1,1)\n",
    "        xmin = np.min(Xtemp)\n",
    "        xmax = np.max(Xtemp)\n",
    "        Xtemp = (Xtemp-xmin)/(xmax-xmin)\n",
    "        ytemp = (ytemp-xmin)/(xmax-xmin)\n",
    "        A.append(Xtemp)\n",
    "        y.append(ytemp)\n",
    "       # if np.mod(j,5000)==0: print(j)\n",
    "    A = np.array(A)\n",
    "    y = np.array(y)\n",
    "    A = A.reshape(A.shape[0],A.shape[1])\n",
    "    y = y.reshape(n)\n",
    "    return (A,y)       "
   ]
  },
  {
   "cell_type": "code",
   "execution_count": 513,
   "metadata": {},
   "outputs": [
    {
     "name": "stderr",
     "output_type": "stream",
     "text": [
      "100%|██████████| 280000/280000 [00:37<00:00, 7498.60it/s] \n",
      "100%|██████████| 60000/60000 [00:06<00:00, 8976.12it/s] \n"
     ]
    }
   ],
   "source": [
    "A,y = makeDataset(280000)\n",
    "Aval,yval = makeDataset(60000)"
   ]
  },
  {
   "cell_type": "code",
   "execution_count": 66,
   "metadata": {},
   "outputs": [
    {
     "data": {
      "text/plain": [
       "(3000,)"
      ]
     },
     "execution_count": 66,
     "metadata": {},
     "output_type": "execute_result"
    }
   ],
   "source": [
    "yval.shape"
   ]
  },
  {
   "cell_type": "code",
   "execution_count": 451,
   "metadata": {},
   "outputs": [
    {
     "data": {
      "image/png": "[encoded data removed]",
      "text/plain": [
       "<Figure size 432x288 with 1 Axes>"
      ]
     },
     "metadata": {},
     "output_type": "display_data"
    }
   ],
   "source": [
    "xx = range(0,A.shape[1])\n",
    "_ = plt.plot(xx,A[11],xx,A[23])"
   ]
  },
  {
   "cell_type": "code",
   "execution_count": 426,
   "metadata": {},
   "outputs": [
    {
     "data": {
      "text/plain": [
       "(60000, 150)"
      ]
     },
     "execution_count": 426,
     "metadata": {},
     "output_type": "execute_result"
    }
   ],
   "source": [
    "A.shape"
   ]
  },
  {
   "cell_type": "code",
   "execution_count": 531,
   "metadata": {},
   "outputs": [
    {
     "name": "stdout",
     "output_type": "stream",
     "text": [
      "_________________________________________________________________\n",
      "Layer (type)                 Output Shape              Param #   \n",
      "=================================================================\n",
      "dense_190 (Dense)            (None, 170)               29070     \n",
      "_________________________________________________________________\n",
      "dropout_41 (Dropout)         (None, 170)               0         \n",
      "_________________________________________________________________\n",
      "dense_191 (Dense)            (None, 128)               21888     \n",
      "_________________________________________________________________\n",
      "dropout_42 (Dropout)         (None, 128)               0         \n",
      "_________________________________________________________________\n",
      "dense_192 (Dense)            (None, 128)               16512     \n",
      "_________________________________________________________________\n",
      "dense_193 (Dense)            (None, 128)               16512     \n",
      "_________________________________________________________________\n",
      "dense_194 (Dense)            (None, 64)                8256      \n",
      "_________________________________________________________________\n",
      "dense_195 (Dense)            (None, 32)                2080      \n",
      "_________________________________________________________________\n",
      "dense_196 (Dense)            (None, 1)                 33        \n",
      "=================================================================\n",
      "Total params: 94,351\n",
      "Trainable params: 94,351\n",
      "Non-trainable params: 0\n",
      "_________________________________________________________________\n"
     ]
    }
   ],
   "source": [
    "model = Sequential()\n",
    "model.add(Dense(A.shape[1],input_shape=(A.shape[1],),activation = 'relu'))\n",
    "model.add(layers.Dropout(0.5))\n",
    "model.add(Dense(128,activation = 'relu'))\n",
    "model.add(layers.Dropout(0.5))\n",
    "model.add(Dense(128,activation = 'relu'))\n",
    "model.add(Dense(128,activation = 'relu'))\n",
    "model.add(Dense(64,activation = 'relu'))\n",
    "model.add(Dense(32,activation = 'relu'))\n",
    "model.add(Dense(1))\n",
    "model.compile(optimizer='rmsprop', loss='mse', metrics=['mae'])\n",
    "model.summary()\n"
   ]
  },
  {
   "cell_type": "code",
   "execution_count": 576,
   "metadata": {},
   "outputs": [
    {
     "name": "stdout",
     "output_type": "stream",
     "text": [
      "Train on 280000 samples, validate on 60000 samples\n",
      "Epoch 1/1\n",
      "280000/280000 [==============================] - 19s - loss: 0.0493 - mean_absolute_error: 0.1613 - val_loss: 0.0565 - val_mean_absolute_error: 0.1733\n"
     ]
    },
    {
     "data": {
      "text/plain": [
       "[<matplotlib.lines.Line2D at 0x146100b70>]"
      ]
     },
     "execution_count": 576,
     "metadata": {},
     "output_type": "execute_result"
    },
    {
     "data": {
      "image/png": "[encoded data removed]",
      "text/plain": [
       "<Figure size 432x288 with 1 Axes>"
      ]
     },
     "metadata": {},
     "output_type": "display_data"
    }
   ],
   "source": [
    "h = model.fit(A, y, batch_size=128, epochs=1, verbose=1,validation_data=(Aval, yval))\n",
    "plt.plot(h.history['loss'])\n",
    "plt.plot(h.history['val_loss'])"
   ]
  },
  {
   "cell_type": "code",
   "execution_count": 577,
   "metadata": {},
   "outputs": [],
   "source": [
    "yfit = model.predict(A)\n",
    "#yfitc1 = covmodel1.predict(Aval.reshape(30000,170,1))\n",
    "#yfitc2 = covmodel2.predict(Aval.reshape(30000,170,1))\n"
   ]
  },
  {
   "cell_type": "code",
   "execution_count": 578,
   "metadata": {},
   "outputs": [
    {
     "data": {
      "text/plain": [
       "[<matplotlib.lines.Line2D at 0x146114358>]"
      ]
     },
     "execution_count": 578,
     "metadata": {},
     "output_type": "execute_result"
    },
    {
     "data": {
      "image/png": "[encoded data removed]",
      "text/plain": [
       "<Figure size 432x288 with 1 Axes>"
      ]
     },
     "metadata": {},
     "output_type": "display_data"
    }
   ],
   "source": [
    "#yavg = (yfit+yfitc1+yfitc2)/3\n",
    "plt.plot(y,yfit,'bo')"
   ]
  },
  {
   "cell_type": "code",
   "execution_count": 579,
   "metadata": {},
   "outputs": [
    {
     "data": {
      "text/plain": [
       "array([[1.        , 0.90413526],\n",
       "       [0.90413526, 1.        ]])"
      ]
     },
     "execution_count": 579,
     "metadata": {},
     "output_type": "execute_result"
    }
   ],
   "source": [
    "np.corrcoef(y.T,yfit.T)"
   ]
  },
  {
   "cell_type": "code",
   "execution_count": null,
   "metadata": {},
   "outputs": [],
   "source": []
  },
  {
   "cell_type": "code",
   "execution_count": 614,
   "metadata": {},
   "outputs": [
    {
     "data": {
      "image/png": "[encoded data removed]",
      "text/plain": [
       "<Figure size 432x288 with 1 Axes>"
      ]
     },
     "metadata": {},
     "output_type": "display_data"
    }
   ],
   "source": [
    "delta = 10\n",
    "s = generateTimeSeries(200,1,5)\n",
    "X1,y1 = generateXy(s,.85)\n",
    "xmin = np.min(X1)\n",
    "xmax = np.max(X1)\n",
    "X1 = (X1-xmin)/(xmax-xmin)\n",
    "y1 = (y1-xmin)/(xmax-xmin)\n",
    "s = (s-xmin)/(xmax-xmin)\n",
    "x = range(0,A.shape[1])\n",
    "xx = range(0,200)\n",
    "xxp = 200\n",
    "#cp1 = covmodel1.predict(X1.reshape(1,370,1))\n",
    "p = model.predict(X1.reshape(-1,170))\n",
    "#cp3 = covmodel3.predict(X1.reshape(1,370,1))\n",
    "#cp2 = covmodel2.predict(X1.reshape(1,370,1))\n",
    "#_= plt.plot(x,X1+.02,xx,s,xxp,y1,'ro',xxp,p,'bo',xxp,cp1,'go',xxp,cp2,'yo',xxp,cp3,'gx')\n",
    "_ = plt.plot(x,X1+.02,xx,s,xxp,y1,'ro',xxp,p,'bo')\n",
    "#print(\"p1 = {} p2 = {} p3 = {}\".format(p1,p2,p3))"
   ]
  },
  {
   "cell_type": "code",
   "execution_count": null,
   "metadata": {},
   "outputs": [],
   "source": [
    "lastp = A[:,169]\n",
    "lastp.shape\n",
    "delta = y-lastp\n",
    "deltafit = yfit-lastp"
   ]
  },
  {
   "cell_type": "code",
   "execution_count": 106,
   "metadata": {},
   "outputs": [
    {
     "name": "stdout",
     "output_type": "stream",
     "text": [
      "_________________________________________________________________\n",
      "Layer (type)                 Output Shape              Param #   \n",
      "=================================================================\n",
      "conv1d_2 (Conv1D)            (None, 161, 32)           352       \n",
      "_________________________________________________________________\n",
      "activation_2 (Activation)    (None, 161, 32)           0         \n",
      "_________________________________________________________________\n",
      "flatten_2 (Flatten)          (None, 5152)              0         \n",
      "_________________________________________________________________\n",
      "dropout_3 (Dropout)          (None, 5152)              0         \n",
      "_________________________________________________________________\n",
      "dense_54 (Dense)             (None, 128)               659584    \n",
      "_________________________________________________________________\n",
      "dense_55 (Dense)             (None, 64)                8256      \n",
      "_________________________________________________________________\n",
      "dense_56 (Dense)             (None, 1)                 65        \n",
      "=================================================================\n",
      "Total params: 668,257\n",
      "Trainable params: 668,257\n",
      "Non-trainable params: 0\n",
      "_________________________________________________________________\n"
     ]
    },
    {
     "name": "stderr",
     "output_type": "stream",
     "text": [
      "/Users/johnwilson/anaconda/envs/ztdl/lib/python3.5/site-packages/ipykernel_launcher.py:2: UserWarning: Update your `Conv1D` call to the Keras 2 API: `Conv1D(kernel_size=10, filters=32, input_shape=(170, 1))`\n",
      "  \n"
     ]
    }
   ],
   "source": [
    "covmodel1 = Sequential()\n",
    "covmodel1.add( Convolution1D( nb_filter=32, filter_length=10, input_shape=(A.shape[1], 1)))\n",
    "covmodel1.add(Activation('relu'))\n",
    "covmodel1.add(Flatten())\n",
    "covmodel1.add(Dropout(0.4))\n",
    "covmodel1.add(Dense(128, activation='relu'))\n",
    "covmodel1.add(Dense(64, activation='relu'))\n",
    "covmodel1.add(Dense(1))\n",
    "covmodel1.compile(optimizer='rmsprop', loss='mse', metrics=['mae'])\n",
    "covmodel1.summary()"
   ]
  },
  {
   "cell_type": "code",
   "execution_count": 338,
   "metadata": {},
   "outputs": [
    {
     "name": "stdout",
     "output_type": "stream",
     "text": [
      "_________________________________________________________________\n",
      "Layer (type)                 Output Shape              Param #   \n",
      "=================================================================\n",
      "conv1d_9 (Conv1D)            (None, 351, 32)           672       \n",
      "_________________________________________________________________\n",
      "activation_9 (Activation)    (None, 351, 32)           0         \n",
      "_________________________________________________________________\n",
      "dense_91 (Dense)             (None, 351, 128)          4224      \n",
      "_________________________________________________________________\n",
      "dense_92 (Dense)             (None, 351, 64)           8256      \n",
      "_________________________________________________________________\n",
      "dense_93 (Dense)             (None, 351, 1)            65        \n",
      "=================================================================\n",
      "Total params: 13,217\n",
      "Trainable params: 13,217\n",
      "Non-trainable params: 0\n",
      "_________________________________________________________________\n"
     ]
    },
    {
     "name": "stderr",
     "output_type": "stream",
     "text": [
      "/Users/johnwilson/anaconda/envs/ztdl/lib/python3.5/site-packages/ipykernel_launcher.py:2: UserWarning: Update your `Conv1D` call to the Keras 2 API: `Conv1D(kernel_size=20, filters=32, input_shape=(370, 1))`\n",
      "  \n"
     ]
    }
   ],
   "source": [
    "covmodel2 = Sequential()\n",
    "covmodel2.add( Convolution1D( nb_filter=32, filter_length=20, input_shape=(A.shape[1], 1)))\n",
    "covmodel2.add(Activation('relu'))\n",
    "#covmodel2.add(Dropout(0.4))\n",
    "covmodel2.add(Dense(128, activation='relu'))\n",
    "covmodel2.add(Dense(64, activation='relu'))\n",
    "covmodel2.add(Dense(1))\n",
    "covmodel2.compile(optimizer='rmsprop', loss='mse', metrics=['mae'])\n",
    "covmodel2.summary()"
   ]
  },
  {
   "cell_type": "code",
   "execution_count": 339,
   "metadata": {},
   "outputs": [
    {
     "ename": "ValueError",
     "evalue": "cannot reshape array of size 29600000 into shape (80000,170,1)",
     "output_type": "error",
     "traceback": [
      "\u001b[0;31m---------------------------------------------------------------------------\u001b[0m",
      "\u001b[0;31mValueError\u001b[0m                                Traceback (most recent call last)",
      "\u001b[0;32m<ipython-input-339-27010a28e864>\u001b[0m in \u001b[0;36m<module>\u001b[0;34m()\u001b[0m\n\u001b[0;32m----> 1\u001b[0;31m \u001b[0mhc\u001b[0m \u001b[0;34m=\u001b[0m \u001b[0mcovmodel1\u001b[0m\u001b[0;34m.\u001b[0m\u001b[0mfit\u001b[0m\u001b[0;34m(\u001b[0m\u001b[0mA\u001b[0m\u001b[0;34m.\u001b[0m\u001b[0mreshape\u001b[0m\u001b[0;34m(\u001b[0m\u001b[0;36m80000\u001b[0m\u001b[0;34m,\u001b[0m\u001b[0;36m170\u001b[0m\u001b[0;34m,\u001b[0m\u001b[0;36m1\u001b[0m\u001b[0;34m)\u001b[0m\u001b[0;34m,\u001b[0m \u001b[0my\u001b[0m\u001b[0;34m,\u001b[0m \u001b[0mbatch_size\u001b[0m\u001b[0;34m=\u001b[0m\u001b[0;36m128\u001b[0m\u001b[0;34m,\u001b[0m \u001b[0mepochs\u001b[0m\u001b[0;34m=\u001b[0m\u001b[0;36m2\u001b[0m\u001b[0;34m,\u001b[0m \u001b[0mverbose\u001b[0m\u001b[0;34m=\u001b[0m\u001b[0;36m1\u001b[0m\u001b[0;34m,\u001b[0m\u001b[0mvalidation_data\u001b[0m\u001b[0;34m=\u001b[0m\u001b[0;34m(\u001b[0m\u001b[0mAval\u001b[0m\u001b[0;34m.\u001b[0m\u001b[0mreshape\u001b[0m\u001b[0;34m(\u001b[0m\u001b[0;36m30000\u001b[0m\u001b[0;34m,\u001b[0m\u001b[0;36m170\u001b[0m\u001b[0;34m,\u001b[0m\u001b[0;36m1\u001b[0m\u001b[0;34m)\u001b[0m\u001b[0;34m,\u001b[0m \u001b[0myval\u001b[0m\u001b[0;34m)\u001b[0m\u001b[0;34m)\u001b[0m\u001b[0;34m\u001b[0m\u001b[0m\n\u001b[0m\u001b[1;32m      2\u001b[0m \u001b[0mplt\u001b[0m\u001b[0;34m.\u001b[0m\u001b[0mplot\u001b[0m\u001b[0;34m(\u001b[0m\u001b[0mhc\u001b[0m\u001b[0;34m.\u001b[0m\u001b[0mhistory\u001b[0m\u001b[0;34m[\u001b[0m\u001b[0;34m'loss'\u001b[0m\u001b[0;34m]\u001b[0m\u001b[0;34m)\u001b[0m\u001b[0;34m\u001b[0m\u001b[0m\n\u001b[1;32m      3\u001b[0m \u001b[0mplt\u001b[0m\u001b[0;34m.\u001b[0m\u001b[0mplot\u001b[0m\u001b[0;34m(\u001b[0m\u001b[0mhc\u001b[0m\u001b[0;34m.\u001b[0m\u001b[0mhistory\u001b[0m\u001b[0;34m[\u001b[0m\u001b[0;34m'val_loss'\u001b[0m\u001b[0;34m]\u001b[0m\u001b[0;34m)\u001b[0m\u001b[0;34m\u001b[0m\u001b[0m\n",
      "\u001b[0;31mValueError\u001b[0m: cannot reshape array of size 29600000 into shape (80000,170,1)"
     ]
    }
   ],
   "source": [
    "hc = covmodel1.fit(A.reshape(80000,170,1), y, batch_size=128, epochs=2, verbose=1,validation_data=(Aval.reshape(30000,170,1), yval))\n",
    "plt.plot(hc.history['loss'])\n",
    "plt.plot(hc.history['val_loss'])"
   ]
  },
  {
   "cell_type": "code",
   "execution_count": 350,
   "metadata": {},
   "outputs": [
    {
     "name": "stdout",
     "output_type": "stream",
     "text": [
      "Train on 80000 samples, validate on 30000 samples\n",
      "Epoch 1/1\n",
      "80000/80000 [==============================] - 1229s - loss: 0.2100 - mean_absolute_error: 0.3611 - val_loss: 0.1661 - val_mean_absolute_error: 0.3396\n"
     ]
    },
    {
     "data": {
      "text/plain": [
       "[<matplotlib.lines.Line2D at 0x12a109710>]"
      ]
     },
     "execution_count": 350,
     "metadata": {},
     "output_type": "execute_result"
    },
    {
     "data": {
      "image/png": "[encoded data removed]",
      "text/plain": [
       "<Figure size 432x288 with 1 Axes>"
      ]
     },
     "metadata": {},
     "output_type": "display_data"
    }
   ],
   "source": [
    "hc = model_m.fit(A.reshape(80000,370,1), y, batch_size=128, epochs=1, verbose=1,validation_data=(Aval.reshape(30000,370,1), yval))\n",
    "plt.plot(hc.history['loss'])\n",
    "plt.plot(hc.history['val_loss'])"
   ]
  },
  {
   "cell_type": "code",
   "execution_count": 349,
   "metadata": {},
   "outputs": [
    {
     "name": "stdout",
     "output_type": "stream",
     "text": [
      "_________________________________________________________________\n",
      "Layer (type)                 Output Shape              Param #   \n",
      "=================================================================\n",
      "conv1d_21 (Conv1D)           (None, 361, 100)          1100      \n",
      "_________________________________________________________________\n",
      "conv1d_22 (Conv1D)           (None, 352, 100)          100100    \n",
      "_________________________________________________________________\n",
      "max_pooling1d_3 (MaxPooling1 (None, 117, 100)          0         \n",
      "_________________________________________________________________\n",
      "conv1d_23 (Conv1D)           (None, 108, 160)          160160    \n",
      "_________________________________________________________________\n",
      "conv1d_24 (Conv1D)           (None, 99, 160)           256160    \n",
      "_________________________________________________________________\n",
      "global_average_pooling1d_2 ( (None, 160)               0         \n",
      "_________________________________________________________________\n",
      "dropout_12 (Dropout)         (None, 160)               0         \n",
      "_________________________________________________________________\n",
      "dense_97 (Dense)             (None, 128)               20608     \n",
      "_________________________________________________________________\n",
      "dense_98 (Dense)             (None, 64)                8256      \n",
      "_________________________________________________________________\n",
      "dense_99 (Dense)             (None, 1)                 65        \n",
      "=================================================================\n",
      "Total params: 546,449\n",
      "Trainable params: 546,449\n",
      "Non-trainable params: 0\n",
      "_________________________________________________________________\n"
     ]
    },
    {
     "name": "stderr",
     "output_type": "stream",
     "text": [
      "/Users/johnwilson/anaconda/envs/ztdl/lib/python3.5/site-packages/ipykernel_launcher.py:2: UserWarning: Update your `Conv1D` call to the Keras 2 API: `Conv1D(kernel_size=10, filters=100, input_shape=(370, 1))`\n",
      "  \n"
     ]
    }
   ],
   "source": [
    "model_m = Sequential()\n",
    "model_m.add( Convolution1D( nb_filter=100, filter_length=10, input_shape=(A.shape[1], 1)))\n",
    "model_m.add(Convolution1D(100, 10, activation='relu'))\n",
    "model_m.add(MaxPooling1D(3))\n",
    "model_m.add(Convolution1D(160, 10, activation='relu'))\n",
    "model_m.add(Convolution1D(160, 10, activation='relu'))\n",
    "model_m.add(GlobalAveragePooling1D())\n",
    "model_m.add(Dropout(0.5))\n",
    "\n",
    "model_m.add(Dense(128, activation='relu'))\n",
    "model_m.add(Dense(64, activation='relu'))\n",
    "model_m.add(Dense(1))\n",
    "model_m.compile(optimizer='rmsprop', loss='mse', metrics=['mae'])\n",
    "model_m.summary()"
   ]
  },
  {
   "cell_type": "code",
   "execution_count": 351,
   "metadata": {},
   "outputs": [],
   "source": [
    "yfitc = model_m.predict(Aval.reshape(30000,370,1))"
   ]
  },
  {
   "cell_type": "code",
   "execution_count": 352,
   "metadata": {},
   "outputs": [
    {
     "data": {
      "text/plain": [
       "[<matplotlib.lines.Line2D at 0x129e06f98>]"
      ]
     },
     "execution_count": 352,
     "metadata": {},
     "output_type": "execute_result"
    },
    {
     "data": {
      "image/png": "[encoded data removed]",
      "text/plain": [
       "<Figure size 432x288 with 1 Axes>"
      ]
     },
     "metadata": {},
     "output_type": "display_data"
    }
   ],
   "source": [
    "plt.plot(yval,yfitc,'bo')"
   ]
  },
  {
   "cell_type": "code",
   "execution_count": 353,
   "metadata": {},
   "outputs": [
    {
     "data": {
      "text/plain": [
       "array([[1.        , 0.22974147],\n",
       "       [0.22974147, 1.        ]])"
      ]
     },
     "execution_count": 353,
     "metadata": {},
     "output_type": "execute_result"
    }
   ],
   "source": [
    "np.corrcoef(yval.T,yfitc.T)"
   ]
  },
  {
   "cell_type": "code",
   "execution_count": 1365,
   "metadata": {},
   "outputs": [],
   "source": [
    "maxvals = np.max(A,axis = 1).reshape(-1,1)\n",
    "minvals = np.min(A,axis=1).reshape(-1,1)\n",
    "As = (A-minvals)/(maxvals-minvals)\n",
    "y = (y-minvals)/(maxvals-minvals)\n",
    "\n",
    "maxvals = np.max(Aval,axis = 1).reshape(-1,1)\n",
    "minvals = np.min(Aval,axis=1).reshape(-1,1)\n",
    "Avals = (Aval-minvals)/(maxvals-minvals)\n",
    "yval = (yval-minvals)/(maxvals-minvals)"
   ]
  },
  {
   "cell_type": "code",
   "execution_count": 1366,
   "metadata": {},
   "outputs": [
    {
     "data": {
      "text/plain": [
       "array([-0.47448836])"
      ]
     },
     "execution_count": 1366,
     "metadata": {},
     "output_type": "execute_result"
    }
   ],
   "source": [
    "y[1]"
   ]
  },
  {
   "cell_type": "code",
   "execution_count": 1396,
   "metadata": {},
   "outputs": [],
   "source": [
    "list1 = []\n",
    "a = np.random.rand(10,1)\n",
    "list1.append(a)"
   ]
  },
  {
   "cell_type": "code",
   "execution_count": 1399,
   "metadata": {},
   "outputs": [],
   "source": [
    "list1.append(a)"
   ]
  },
  {
   "cell_type": "code",
   "execution_count": 1400,
   "metadata": {},
   "outputs": [
    {
     "data": {
      "text/plain": [
       "(4, 10, 1)"
      ]
     },
     "execution_count": 1400,
     "metadata": {},
     "output_type": "execute_result"
    }
   ],
   "source": [
    "np.array(list1).shape"
   ]
  },
  {
   "cell_type": "code",
   "execution_count": null,
   "metadata": {},
   "outputs": [],
   "source": []
  }
 ],
 "metadata": {
  "kernelspec": {
   "display_name": "Python 3",
   "language": "python",
   "name": "python3"
  },
  "language_info": {
   "codemirror_mode": {
    "name": "ipython",
    "version": 3
   },
   "file_extension": ".py",
   "mimetype": "text/x-python",
   "name": "python",
   "nbconvert_exporter": "python",
   "pygments_lexer": "ipython3",
   "version": "3.5.5"
  }
 },
 "nbformat": 4,
 "nbformat_minor": 2
}
