{
 "cells": [
  {
   "cell_type": "code",
   "execution_count": 304,
   "metadata": {},
   "outputs": [],
   "source": [
    "%matplotlib inline\n",
    "import numpy as np\n",
    "import pandas as pd\n",
    "import matplotlib.pyplot as plt\n",
    "from sklearn.model_selection import train_test_split\n",
    "from sklearn.preprocessing import MinMaxScaler\n",
    "import matplotlib.pyplot as plt\n",
    "import seaborn as sns\n",
    "from ipywidgets import interact, interactive, fixed, interact_manual\n",
    "import ipywidgets as widgets\n",
    "from matplotlib.finance import candlestick_ohlc\n",
    "from IPython.display import display\n"
   ]
  },
  {
   "cell_type": "markdown",
   "metadata": {},
   "source": [
    "<h2>Get the Data</h2>"
   ]
  },
  {
   "cell_type": "code",
   "execution_count": 3,
   "metadata": {},
   "outputs": [],
   "source": [
    "X = pd.read_csv(\"//bvt-fs-01//Users$//jwwilson//Documents//Historical//DAT_MT_EURUSD_M1_201801.csv\",header=None)\n",
    "X.columns = [\"Date\",\"Time\",\"Open\",\"High\",\"Low\",\"Close\",\"unused\"]"
   ]
  },
  {
   "cell_type": "markdown",
   "metadata": {},
   "source": [
    "<h2>Indicators</h2>"
   ]
  },
  {
   "cell_type": "code",
   "execution_count": 468,
   "metadata": {},
   "outputs": [],
   "source": [
    "#creates a numpy Array to add to a dataframe with OHLC data\n",
    "#Moving Average\"\n",
    "def movingAverage(data,malength):\n",
    "    close = data[[\"Close\"]].values\n",
    "    ma = []\n",
    "    for j in range(0,len(close)):\n",
    "        if j<malength: ma.append(0)\n",
    "        else:ma.append(sum( close[(j-malength):(j)] )/(malength))\n",
    "    return(np.array(ma).reshape(-1,1))\n",
    "\n",
    "#Ma Slope\n",
    "#input a moving average and get the slopes\n",
    "def MAslope(madata,delta=1): \n",
    "    maslope = []\n",
    "    for j in range(0,len(madata)): \n",
    "        if j<delta:\n",
    "            maslope.append(0)\n",
    "        else:\n",
    "            maslope.append((madata[j]-madata[j-delta])/delta)\n",
    "    return(np.array(maslope).reshape(-1,1))\n",
    "\n",
    "#MADelta\n",
    "def OMA(data,malength=5,lookback=1000):\n",
    "    close = data[[\"Close\"]].values\n",
    "    ma = movingAverage(data,malength).reshape(-1,1) #this reshape speeds up thing by factor of a billion trillion\n",
    "    oma = []\n",
    "   # print(\"step 1\")\n",
    "    delta = ma-close\n",
    "    print(\"step 1\")\n",
    "    for j in range(0,len(data)):\n",
    "    #    if(np.mod(j,1000)==0): print(j)\n",
    "        if(j<lookback): oma.append(0)\n",
    "        else:\n",
    "            segment = delta[j-lookback:j]\n",
    "            oma.append(np.std(segment))\n",
    "    return(np.array(oma).reshape(-1,1))        \n",
    "    \n",
    "#Get Highs and Lows\n",
    "\n",
    "#RSI\n",
    "\n",
    "#collapse timeframes\n",
    "\n",
    "#Build Indicator Table\n",
    "def buildIndicatorTable(X):\n",
    "    sma14 = movingAverage(X,14)[:,0]\n",
    "    sma60 = movingAverage(X,60)[:,0]\n",
    "    sma200 = movingAverage(X,200)[:,0]\n",
    "    mas14 = MAslope(sma14)[:,0]\n",
    "    mas60 = MAslope(sma60)[:,0]\n",
    "    mas200 = MAslope(sma200)[:,0]\n",
    "    oma = OMA(X)[:,0]\n",
    "    return(pd.DataFrame({'sma14':sma14,'sma60':sma60,'sma200':sma200,'mas14':mas14,'mas60':mas60,'mas200':mas200,'oma':oma}))"
   ]
  },
  {
   "cell_type": "markdown",
   "metadata": {},
   "source": [
    "<h2>Entry Exit Logic</h2>"
   ]
  },
  {
   "cell_type": "code",
   "execution_count": 518,
   "metadata": {},
   "outputs": [],
   "source": [
    "def getEntriesandExits(data,buythreshold=.2,sellthreshold=.2):\n",
    "    entries = np.zeros(len(data))\n",
    "    exits = np.zeros(len(data))\n",
    "    tradeinprogress = False   \n",
    "    for j in range(0,len(data)):       \n",
    "        if(tradeinprogress==False):\n",
    "            if(np.random.rand(1)<buythreshold):\n",
    "                entries[j]=1\n",
    "                tradeinprogress = True               \n",
    "        else:\n",
    "            if(np.random.rand(1)<sellthreshold or j == len(data)-1): #close if end reached\n",
    "                exits[j]=1\n",
    "                tradeinprogress = False                  \n",
    "    return(entries,exits)\n",
    "\n",
    "def getTradeTable(data,entries,exits): \n",
    "    PandL = []\n",
    "    entryj = []\n",
    "    exitj = []\n",
    "    close = data[[\"Close\"]].values\n",
    "    tradeinprogress = False\n",
    "    entryval = 0\n",
    "    for j in range(0,len(data)):\n",
    "        if(tradeinprogress==False):\n",
    "            if(entries[j]==1):\n",
    "                tradeinprogress = True               \n",
    "                entryval = close[j]\n",
    "                entryj.append(j)\n",
    "        else:\n",
    "             if(exits[j]==1):\n",
    "                tradeinprogress = False\n",
    "                exitval = close[j]\n",
    "                PandL.append(exitval-entryval)\n",
    "                exitj.append(j)\n",
    "                \n",
    "    returnFrame = pd.DataFrame({'entryindex':entryj,'exitindex':exitj,'PandL':np.array(PandL)[:,0]})\n",
    "    return(returnFrame)"
   ]
  },
  {
   "cell_type": "code",
   "execution_count": 479,
   "metadata": {
    "scrolled": true
   },
   "outputs": [
    {
     "data": {
      "text/plain": [
       "[<matplotlib.lines.Line2D at 0x99e18617f0>,\n",
       " <matplotlib.lines.Line2D at 0x99e18ff630>,\n",
       " <matplotlib.lines.Line2D at 0x99e18fff28>]"
      ]
     },
     "execution_count": 479,
     "metadata": {},
     "output_type": "execute_result"
    },
    {
     "data": {
      "image/png": "[encoded data removed]",
      "text/plain": [
       "<matplotlib.figure.Figure at 0x99e189c128>"
      ]
     },
     "metadata": {},
     "output_type": "display_data"
    }
   ],
   "source": [
    "#masked Plotting\n",
    "xx = range(0,150)\n",
    "sp = np.ma.masked_where(maslope30 <= 0, ma30)\n",
    "sn = np.ma.masked_where(maslope30 >= 0, ma30)\n",
    "plt.plot(xx,X[\"Close\"][-250:-100],xx,sp[-250:-100],'g',xx,sn[-250:-100],'r')"
   ]
  },
  {
   "cell_type": "markdown",
   "metadata": {},
   "source": [
    "<h2>Candlestick Charting:</h2>"
   ]
  },
  {
   "cell_type": "code",
   "execution_count": 297,
   "metadata": {},
   "outputs": [
    {
     "data": {
      "text/plain": [
       "[<matplotlib.lines.Line2D at 0x99d5cf29e8>,\n",
       " <matplotlib.lines.Line2D at 0x99ddf3fba8>]"
      ]
     },
     "execution_count": 297,
     "metadata": {},
     "output_type": "execute_result"
    },
    {
     "data": {
      "image/png": "[encoded data removed]",
      "text/plain": [
       "<matplotlib.figure.Figure at 0x99d5cfac50>"
      ]
     },
     "metadata": {},
     "output_type": "display_data"
    }
   ],
   "source": [
    "#candlestick\n",
    "#testdata = np.arange(5000,6000).reshape(-1,1)\n",
    "#data1 = X[[\"Open\",\"High\",\"Low\",\"Close\"]].values\n",
    "#testdata = np.append(testdata,data1[5000:6000,:],1)\n",
    "\n",
    "f1, ax = plt.subplots(figsize = (20,10))\n",
    "\n",
    "# plot the candlesticks\n",
    "_ = candlestick_ohlc(ax, testdata, width=.6, colorup='green', colordown='red')\n",
    "ax.plot(range(5000,6000),ma60[5000:6000])\n",
    "ax.plot(range(5000,6000),ma60[5000:6000]+oma[5000:6000],range(5000,6000),ma60[5000:6000]-oma[5000:6000])"
   ]
  },
  {
   "cell_type": "markdown",
   "metadata": {},
   "source": [
    "<h2>Interactive</h2>"
   ]
  },
  {
   "cell_type": "code",
   "execution_count": 320,
   "metadata": {},
   "outputs": [
    {
     "name": "stderr",
     "output_type": "stream",
     "text": [
      "C:\\Users\\jwwilson\\AppData\\Local\\Continuum\\Anaconda2\\envs\\ztdl\\lib\\site-packages\\traitlets\\traitlets.py:567: FutureWarning: comparison to `None` will result in an elementwise object comparison in the future.\n",
      "  silent = bool(old_value == new_value)\n"
     ]
    },
    {
     "data": {
      "application/vnd.jupyter.widget-view+json": {
       "model_id": "4e091bfef3814964b796de72c256a8a2",
       "version_major": 2,
       "version_minor": 0
      },
      "text/plain": [
       "interactive(children=(IntSlider(value=10, description='x', max=30, min=-10), IntSlider(value=1, description='y…"
      ]
     },
     "metadata": {},
     "output_type": "display_data"
    }
   ],
   "source": [
    "sma60 = movingAverage(X,60)\n",
    "def f(x,y,z,data):\n",
    "    return (x*sum(data))\n",
    "interact(f, x=10,y=1,z=11,data = fixed(sma60));"
   ]
  },
  {
   "cell_type": "code",
   "execution_count": 309,
   "metadata": {},
   "outputs": [
    {
     "data": {
      "application/vnd.jupyter.widget-view+json": {
       "model_id": "9119ae8fc3c14b79b8a0a249847f5c0d",
       "version_major": 2,
       "version_minor": 0
      },
      "text/plain": [
       "Button(description='Click Me!', style=ButtonStyle())"
      ]
     },
     "metadata": {},
     "output_type": "display_data"
    },
    {
     "name": "stdout",
     "output_type": "stream",
     "text": [
      "jindex = 7\n",
      "jindex = 5\n",
      "jindex = 7\n"
     ]
    }
   ],
   "source": [
    "intslider = widgets.IntSlider(\n",
    "    value=7,\n",
    "    min=0,\n",
    "    max=10,\n",
    "    step=1,\n",
    "    description='Test:',\n",
    "    disabled=False,\n",
    "    continuous_update=False,\n",
    "    orientation='horizontal',\n",
    "    readout=True,\n",
    "    readout_format='d'\n",
    ")\n",
    "button = widgets.Button(description=\"Click Me!\")\n",
    "display(button)\n",
    "\n",
    "def on_button_clicked(b):\n",
    "    j = intslider.value \n",
    "    print(\"jindex = {}\".format(j))\n",
    "   \n",
    "\n",
    "button.on_click(on_button_clicked)"
   ]
  },
  {
   "cell_type": "code",
   "execution_count": 310,
   "metadata": {},
   "outputs": [
    {
     "data": {
      "application/vnd.jupyter.widget-view+json": {
       "model_id": "70f26e7f77a8483ba9ba3d160afea4d0",
       "version_major": 2,
       "version_minor": 0
      },
      "text/plain": [
       "IntSlider(value=7, continuous_update=False, description='Test:', max=10)"
      ]
     },
     "metadata": {},
     "output_type": "display_data"
    }
   ],
   "source": [
    "intslider"
   ]
  },
  {
   "cell_type": "code",
   "execution_count": 335,
   "metadata": {},
   "outputs": [
    {
     "data": {
      "text/plain": [
       "32066"
      ]
     },
     "execution_count": 335,
     "metadata": {},
     "output_type": "execute_result"
    }
   ],
   "source": [
    "len(X)"
   ]
  },
  {
   "cell_type": "code",
   "execution_count": 492,
   "metadata": {},
   "outputs": [
    {
     "name": "stdout",
     "output_type": "stream",
     "text": [
      "entries = 273.0 exits = 273.0\n"
     ]
    }
   ],
   "source": [
    "(e,x) = getEntriesandExits(X,.1,.01)\n",
    "print('entries = {} exits = {}'.format(sum(e),sum(x)))"
   ]
  },
  {
   "cell_type": "code",
   "execution_count": 485,
   "metadata": {},
   "outputs": [
    {
     "data": {
      "image/png": "[encoded data removed]",
      "text/plain": [
       "<matplotlib.figure.Figure at 0x99dfe1bba8>"
      ]
     },
     "metadata": {},
     "output_type": "display_data"
    }
   ],
   "source": [
    "h = plt.hist(PnL,bins = 50)"
   ]
  },
  {
   "cell_type": "code",
   "execution_count": 433,
   "metadata": {},
   "outputs": [
    {
     "data": {
      "text/plain": [
       "10000.0"
      ]
     },
     "execution_count": 433,
     "metadata": {},
     "output_type": "execute_result"
    }
   ],
   "source": [
    "1/.0001"
   ]
  },
  {
   "cell_type": "code",
   "execution_count": 362,
   "metadata": {},
   "outputs": [
    {
     "data": {
      "text/plain": [
       "array([ True], dtype=bool)"
      ]
     },
     "execution_count": 362,
     "metadata": {},
     "output_type": "execute_result"
    }
   ],
   "source": [
    "np.random.rand(1)>.1"
   ]
  },
  {
   "cell_type": "code",
   "execution_count": 397,
   "metadata": {},
   "outputs": [],
   "source": [
    "ent = close[3]"
   ]
  },
  {
   "cell_type": "code",
   "execution_count": 442,
   "metadata": {},
   "outputs": [
    {
     "data": {
      "text/html": [
       "<div>\n",
       "<table border=\"1\" class=\"dataframe\">\n",
       "  <thead>\n",
       "    <tr style=\"text-align: right;\">\n",
       "      <th></th>\n",
       "      <th>a1</th>\n",
       "      <th>a2</th>\n",
       "    </tr>\n",
       "  </thead>\n",
       "  <tbody>\n",
       "    <tr>\n",
       "      <th>0</th>\n",
       "      <td>1</td>\n",
       "      <td>3</td>\n",
       "    </tr>\n",
       "    <tr>\n",
       "      <th>1</th>\n",
       "      <td>2</td>\n",
       "      <td>4</td>\n",
       "    </tr>\n",
       "    <tr>\n",
       "      <th>2</th>\n",
       "      <td>3</td>\n",
       "      <td>5</td>\n",
       "    </tr>\n",
       "    <tr>\n",
       "      <th>3</th>\n",
       "      <td>4</td>\n",
       "      <td>6</td>\n",
       "    </tr>\n",
       "    <tr>\n",
       "      <th>4</th>\n",
       "      <td>5</td>\n",
       "      <td>7</td>\n",
       "    </tr>\n",
       "  </tbody>\n",
       "</table>\n",
       "</div>"
      ],
      "text/plain": [
       "   a1  a2\n",
       "0   1   3\n",
       "1   2   4\n",
       "2   3   5\n",
       "3   4   6\n",
       "4   5   7"
      ]
     },
     "execution_count": 442,
     "metadata": {},
     "output_type": "execute_result"
    }
   ],
   "source": [
    "a1 = [1,2,3,4,5]\n",
    "a2 = [3,4,5,6,7]\n",
    "pd.DataFrame({\"a1\":a1,\"a2\":a2})\n"
   ]
  },
  {
   "cell_type": "code",
   "execution_count": 470,
   "metadata": {},
   "outputs": [
    {
     "name": "stdout",
     "output_type": "stream",
     "text": [
      "step 1\n"
     ]
    }
   ],
   "source": [
    "indicatorTable = buildIndicatorTable(X)"
   ]
  },
  {
   "cell_type": "code",
   "execution_count": 465,
   "metadata": {},
   "outputs": [
    {
     "data": {
      "text/html": [
       "<div>\n",
       "<table border=\"1\" class=\"dataframe\">\n",
       "  <thead>\n",
       "    <tr style=\"text-align: right;\">\n",
       "      <th></th>\n",
       "      <th>sma14</th>\n",
       "    </tr>\n",
       "  </thead>\n",
       "  <tbody>\n",
       "    <tr>\n",
       "      <th>0</th>\n",
       "      <td>0.0</td>\n",
       "    </tr>\n",
       "  </tbody>\n",
       "</table>\n",
       "</div>"
      ],
      "text/plain": [
       "   sma14\n",
       "0    0.0"
      ]
     },
     "execution_count": 465,
     "metadata": {},
     "output_type": "execute_result"
    }
   ],
   "source": [
    "sma14 = movingAverage(X,14)\n",
    "pd.DataFrame({\"sma14\":sma14[:,0]})"
   ]
  },
  {
   "cell_type": "code",
   "execution_count": null,
   "metadata": {},
   "outputs": [],
   "source": []
  },
  {
   "cell_type": "code",
   "execution_count": 536,
   "metadata": {},
   "outputs": [
    {
     "data": {
      "text/html": [
       "<div>\n",
       "<table border=\"1\" class=\"dataframe\">\n",
       "  <thead>\n",
       "    <tr style=\"text-align: right;\">\n",
       "      <th></th>\n",
       "      <th>PandL</th>\n",
       "      <th>entryindex</th>\n",
       "      <th>exitindex</th>\n",
       "    </tr>\n",
       "  </thead>\n",
       "  <tbody>\n",
       "    <tr>\n",
       "      <th>count</th>\n",
       "      <td>273.000000</td>\n",
       "      <td>273.000000</td>\n",
       "      <td>273.000000</td>\n",
       "    </tr>\n",
       "    <tr>\n",
       "      <th>mean</th>\n",
       "      <td>0.000145</td>\n",
       "      <td>15709.538462</td>\n",
       "      <td>15816.981685</td>\n",
       "    </tr>\n",
       "    <tr>\n",
       "      <th>std</th>\n",
       "      <td>0.001779</td>\n",
       "      <td>9022.948024</td>\n",
       "      <td>9026.696940</td>\n",
       "    </tr>\n",
       "    <tr>\n",
       "      <th>min</th>\n",
       "      <td>-0.008540</td>\n",
       "      <td>1.000000</td>\n",
       "      <td>440.000000</td>\n",
       "    </tr>\n",
       "    <tr>\n",
       "      <th>25%</th>\n",
       "      <td>-0.000520</td>\n",
       "      <td>7960.000000</td>\n",
       "      <td>8087.000000</td>\n",
       "    </tr>\n",
       "    <tr>\n",
       "      <th>50%</th>\n",
       "      <td>0.000110</td>\n",
       "      <td>15023.000000</td>\n",
       "      <td>15028.000000</td>\n",
       "    </tr>\n",
       "    <tr>\n",
       "      <th>75%</th>\n",
       "      <td>0.000780</td>\n",
       "      <td>23607.000000</td>\n",
       "      <td>23665.000000</td>\n",
       "    </tr>\n",
       "    <tr>\n",
       "      <th>max</th>\n",
       "      <td>0.008190</td>\n",
       "      <td>31978.000000</td>\n",
       "      <td>32065.000000</td>\n",
       "    </tr>\n",
       "  </tbody>\n",
       "</table>\n",
       "</div>"
      ],
      "text/plain": [
       "            PandL    entryindex     exitindex\n",
       "count  273.000000    273.000000    273.000000\n",
       "mean     0.000145  15709.538462  15816.981685\n",
       "std      0.001779   9022.948024   9026.696940\n",
       "min     -0.008540      1.000000    440.000000\n",
       "25%     -0.000520   7960.000000   8087.000000\n",
       "50%      0.000110  15023.000000  15028.000000\n",
       "75%      0.000780  23607.000000  23665.000000\n",
       "max      0.008190  31978.000000  32065.000000"
      ]
     },
     "execution_count": 536,
     "metadata": {},
     "output_type": "execute_result"
    }
   ],
   "source": [
    "trades = getTradeTable(X,e,x)\n",
    "trades.describe()"
   ]
  },
  {
   "cell_type": "code",
   "execution_count": 496,
   "metadata": {},
   "outputs": [
    {
     "name": "stdout",
     "output_type": "stream",
     "text": [
      "a = 0, j = 0 lena = 6\n",
      "a = 1, j = 1 lena = 6\n",
      "a = 2, j = 2 lena = 6\n",
      "a = 3, j = 3 lena = 6\n",
      "a = 4, j = 4 lena = 6\n",
      "a = 5, j = 5 lena = 6\n"
     ]
    }
   ],
   "source": [
    "for j in range(0,len(a)):\n",
    "    print('a = {}, j = {} lena = {}'.format(a[j],j,len(a)))"
   ]
  },
  {
   "cell_type": "code",
   "execution_count": 524,
   "metadata": {},
   "outputs": [
    {
     "data": {
      "text/html": [
       "<div>\n",
       "<table border=\"1\" class=\"dataframe\">\n",
       "  <thead>\n",
       "    <tr style=\"text-align: right;\">\n",
       "      <th></th>\n",
       "      <th>PandL</th>\n",
       "      <th>entryindex</th>\n",
       "      <th>exitindex</th>\n",
       "    </tr>\n",
       "  </thead>\n",
       "  <tbody>\n",
       "    <tr>\n",
       "      <th>0</th>\n",
       "      <td>0.00146</td>\n",
       "      <td>1</td>\n",
       "      <td>440</td>\n",
       "    </tr>\n",
       "    <tr>\n",
       "      <th>1</th>\n",
       "      <td>0.00078</td>\n",
       "      <td>451</td>\n",
       "      <td>495</td>\n",
       "    </tr>\n",
       "    <tr>\n",
       "      <th>2</th>\n",
       "      <td>0.00402</td>\n",
       "      <td>498</td>\n",
       "      <td>798</td>\n",
       "    </tr>\n",
       "    <tr>\n",
       "      <th>3</th>\n",
       "      <td>-0.00315</td>\n",
       "      <td>799</td>\n",
       "      <td>1020</td>\n",
       "    </tr>\n",
       "    <tr>\n",
       "      <th>4</th>\n",
       "      <td>0.00181</td>\n",
       "      <td>1040</td>\n",
       "      <td>1092</td>\n",
       "    </tr>\n",
       "    <tr>\n",
       "      <th>5</th>\n",
       "      <td>-0.00042</td>\n",
       "      <td>1093</td>\n",
       "      <td>1229</td>\n",
       "    </tr>\n",
       "    <tr>\n",
       "      <th>6</th>\n",
       "      <td>0.00088</td>\n",
       "      <td>1235</td>\n",
       "      <td>1434</td>\n",
       "    </tr>\n",
       "    <tr>\n",
       "      <th>7</th>\n",
       "      <td>-0.00011</td>\n",
       "      <td>1435</td>\n",
       "      <td>1496</td>\n",
       "    </tr>\n",
       "    <tr>\n",
       "      <th>8</th>\n",
       "      <td>-0.00156</td>\n",
       "      <td>1505</td>\n",
       "      <td>1713</td>\n",
       "    </tr>\n",
       "    <tr>\n",
       "      <th>9</th>\n",
       "      <td>-0.00017</td>\n",
       "      <td>1716</td>\n",
       "      <td>1750</td>\n",
       "    </tr>\n",
       "    <tr>\n",
       "      <th>10</th>\n",
       "      <td>0.00043</td>\n",
       "      <td>1770</td>\n",
       "      <td>1863</td>\n",
       "    </tr>\n",
       "    <tr>\n",
       "      <th>11</th>\n",
       "      <td>0.00064</td>\n",
       "      <td>1868</td>\n",
       "      <td>1952</td>\n",
       "    </tr>\n",
       "    <tr>\n",
       "      <th>12</th>\n",
       "      <td>-0.00105</td>\n",
       "      <td>1975</td>\n",
       "      <td>2059</td>\n",
       "    </tr>\n",
       "    <tr>\n",
       "      <th>13</th>\n",
       "      <td>-0.00022</td>\n",
       "      <td>2073</td>\n",
       "      <td>2117</td>\n",
       "    </tr>\n",
       "    <tr>\n",
       "      <th>14</th>\n",
       "      <td>-0.00253</td>\n",
       "      <td>2148</td>\n",
       "      <td>2247</td>\n",
       "    </tr>\n",
       "    <tr>\n",
       "      <th>15</th>\n",
       "      <td>0.00061</td>\n",
       "      <td>2253</td>\n",
       "      <td>2302</td>\n",
       "    </tr>\n",
       "    <tr>\n",
       "      <th>16</th>\n",
       "      <td>-0.00131</td>\n",
       "      <td>2323</td>\n",
       "      <td>2476</td>\n",
       "    </tr>\n",
       "    <tr>\n",
       "      <th>17</th>\n",
       "      <td>0.00228</td>\n",
       "      <td>2483</td>\n",
       "      <td>2677</td>\n",
       "    </tr>\n",
       "    <tr>\n",
       "      <th>18</th>\n",
       "      <td>-0.00187</td>\n",
       "      <td>2684</td>\n",
       "      <td>2716</td>\n",
       "    </tr>\n",
       "    <tr>\n",
       "      <th>19</th>\n",
       "      <td>0.00071</td>\n",
       "      <td>2721</td>\n",
       "      <td>3164</td>\n",
       "    </tr>\n",
       "    <tr>\n",
       "      <th>20</th>\n",
       "      <td>-0.00024</td>\n",
       "      <td>3177</td>\n",
       "      <td>3194</td>\n",
       "    </tr>\n",
       "    <tr>\n",
       "      <th>21</th>\n",
       "      <td>0.00065</td>\n",
       "      <td>3207</td>\n",
       "      <td>3332</td>\n",
       "    </tr>\n",
       "    <tr>\n",
       "      <th>22</th>\n",
       "      <td>0.00067</td>\n",
       "      <td>3335</td>\n",
       "      <td>3412</td>\n",
       "    </tr>\n",
       "    <tr>\n",
       "      <th>23</th>\n",
       "      <td>0.00039</td>\n",
       "      <td>3431</td>\n",
       "      <td>3445</td>\n",
       "    </tr>\n",
       "    <tr>\n",
       "      <th>24</th>\n",
       "      <td>0.00224</td>\n",
       "      <td>3482</td>\n",
       "      <td>3625</td>\n",
       "    </tr>\n",
       "    <tr>\n",
       "      <th>25</th>\n",
       "      <td>0.00146</td>\n",
       "      <td>3630</td>\n",
       "      <td>3788</td>\n",
       "    </tr>\n",
       "    <tr>\n",
       "      <th>26</th>\n",
       "      <td>0.00036</td>\n",
       "      <td>3789</td>\n",
       "      <td>3839</td>\n",
       "    </tr>\n",
       "    <tr>\n",
       "      <th>27</th>\n",
       "      <td>0.00124</td>\n",
       "      <td>3856</td>\n",
       "      <td>3939</td>\n",
       "    </tr>\n",
       "    <tr>\n",
       "      <th>28</th>\n",
       "      <td>-0.00060</td>\n",
       "      <td>3947</td>\n",
       "      <td>3954</td>\n",
       "    </tr>\n",
       "    <tr>\n",
       "      <th>29</th>\n",
       "      <td>-0.00031</td>\n",
       "      <td>3961</td>\n",
       "      <td>3983</td>\n",
       "    </tr>\n",
       "    <tr>\n",
       "      <th>...</th>\n",
       "      <td>...</td>\n",
       "      <td>...</td>\n",
       "      <td>...</td>\n",
       "    </tr>\n",
       "    <tr>\n",
       "      <th>243</th>\n",
       "      <td>-0.00373</td>\n",
       "      <td>28240</td>\n",
       "      <td>28439</td>\n",
       "    </tr>\n",
       "    <tr>\n",
       "      <th>244</th>\n",
       "      <td>0.00114</td>\n",
       "      <td>28440</td>\n",
       "      <td>28493</td>\n",
       "    </tr>\n",
       "    <tr>\n",
       "      <th>245</th>\n",
       "      <td>0.00130</td>\n",
       "      <td>28497</td>\n",
       "      <td>28536</td>\n",
       "    </tr>\n",
       "    <tr>\n",
       "      <th>246</th>\n",
       "      <td>0.00070</td>\n",
       "      <td>28539</td>\n",
       "      <td>28730</td>\n",
       "    </tr>\n",
       "    <tr>\n",
       "      <th>247</th>\n",
       "      <td>-0.00056</td>\n",
       "      <td>28740</td>\n",
       "      <td>28945</td>\n",
       "    </tr>\n",
       "    <tr>\n",
       "      <th>248</th>\n",
       "      <td>-0.00131</td>\n",
       "      <td>28970</td>\n",
       "      <td>29052</td>\n",
       "    </tr>\n",
       "    <tr>\n",
       "      <th>249</th>\n",
       "      <td>0.00040</td>\n",
       "      <td>29081</td>\n",
       "      <td>29108</td>\n",
       "    </tr>\n",
       "    <tr>\n",
       "      <th>250</th>\n",
       "      <td>0.00023</td>\n",
       "      <td>29110</td>\n",
       "      <td>29152</td>\n",
       "    </tr>\n",
       "    <tr>\n",
       "      <th>251</th>\n",
       "      <td>0.00004</td>\n",
       "      <td>29159</td>\n",
       "      <td>29212</td>\n",
       "    </tr>\n",
       "    <tr>\n",
       "      <th>252</th>\n",
       "      <td>0.00291</td>\n",
       "      <td>29218</td>\n",
       "      <td>29501</td>\n",
       "    </tr>\n",
       "    <tr>\n",
       "      <th>253</th>\n",
       "      <td>-0.00067</td>\n",
       "      <td>29528</td>\n",
       "      <td>29557</td>\n",
       "    </tr>\n",
       "    <tr>\n",
       "      <th>254</th>\n",
       "      <td>0.00117</td>\n",
       "      <td>29563</td>\n",
       "      <td>29686</td>\n",
       "    </tr>\n",
       "    <tr>\n",
       "      <th>255</th>\n",
       "      <td>0.00028</td>\n",
       "      <td>29699</td>\n",
       "      <td>29770</td>\n",
       "    </tr>\n",
       "    <tr>\n",
       "      <th>256</th>\n",
       "      <td>-0.00332</td>\n",
       "      <td>29787</td>\n",
       "      <td>30069</td>\n",
       "    </tr>\n",
       "    <tr>\n",
       "      <th>257</th>\n",
       "      <td>-0.00005</td>\n",
       "      <td>30074</td>\n",
       "      <td>30190</td>\n",
       "    </tr>\n",
       "    <tr>\n",
       "      <th>258</th>\n",
       "      <td>0.00227</td>\n",
       "      <td>30203</td>\n",
       "      <td>30576</td>\n",
       "    </tr>\n",
       "    <tr>\n",
       "      <th>259</th>\n",
       "      <td>0.00215</td>\n",
       "      <td>30589</td>\n",
       "      <td>30736</td>\n",
       "    </tr>\n",
       "    <tr>\n",
       "      <th>260</th>\n",
       "      <td>0.00079</td>\n",
       "      <td>30758</td>\n",
       "      <td>30921</td>\n",
       "    </tr>\n",
       "    <tr>\n",
       "      <th>261</th>\n",
       "      <td>-0.00035</td>\n",
       "      <td>30930</td>\n",
       "      <td>31002</td>\n",
       "    </tr>\n",
       "    <tr>\n",
       "      <th>262</th>\n",
       "      <td>0.00041</td>\n",
       "      <td>31009</td>\n",
       "      <td>31060</td>\n",
       "    </tr>\n",
       "    <tr>\n",
       "      <th>263</th>\n",
       "      <td>0.00014</td>\n",
       "      <td>31075</td>\n",
       "      <td>31094</td>\n",
       "    </tr>\n",
       "    <tr>\n",
       "      <th>264</th>\n",
       "      <td>0.00003</td>\n",
       "      <td>31100</td>\n",
       "      <td>31137</td>\n",
       "    </tr>\n",
       "    <tr>\n",
       "      <th>265</th>\n",
       "      <td>-0.00116</td>\n",
       "      <td>31142</td>\n",
       "      <td>31226</td>\n",
       "    </tr>\n",
       "    <tr>\n",
       "      <th>266</th>\n",
       "      <td>0.00084</td>\n",
       "      <td>31242</td>\n",
       "      <td>31254</td>\n",
       "    </tr>\n",
       "    <tr>\n",
       "      <th>267</th>\n",
       "      <td>-0.00481</td>\n",
       "      <td>31256</td>\n",
       "      <td>31399</td>\n",
       "    </tr>\n",
       "    <tr>\n",
       "      <th>268</th>\n",
       "      <td>0.00040</td>\n",
       "      <td>31410</td>\n",
       "      <td>31588</td>\n",
       "    </tr>\n",
       "    <tr>\n",
       "      <th>269</th>\n",
       "      <td>-0.00005</td>\n",
       "      <td>31598</td>\n",
       "      <td>31604</td>\n",
       "    </tr>\n",
       "    <tr>\n",
       "      <th>270</th>\n",
       "      <td>-0.00007</td>\n",
       "      <td>31611</td>\n",
       "      <td>31692</td>\n",
       "    </tr>\n",
       "    <tr>\n",
       "      <th>271</th>\n",
       "      <td>0.00106</td>\n",
       "      <td>31706</td>\n",
       "      <td>31975</td>\n",
       "    </tr>\n",
       "    <tr>\n",
       "      <th>272</th>\n",
       "      <td>-0.00006</td>\n",
       "      <td>31978</td>\n",
       "      <td>32065</td>\n",
       "    </tr>\n",
       "  </tbody>\n",
       "</table>\n",
       "<p>273 rows × 3 columns</p>\n",
       "</div>"
      ],
      "text/plain": [
       "       PandL  entryindex  exitindex\n",
       "0    0.00146           1        440\n",
       "1    0.00078         451        495\n",
       "2    0.00402         498        798\n",
       "3   -0.00315         799       1020\n",
       "4    0.00181        1040       1092\n",
       "5   -0.00042        1093       1229\n",
       "6    0.00088        1235       1434\n",
       "7   -0.00011        1435       1496\n",
       "8   -0.00156        1505       1713\n",
       "9   -0.00017        1716       1750\n",
       "10   0.00043        1770       1863\n",
       "11   0.00064        1868       1952\n",
       "12  -0.00105        1975       2059\n",
       "13  -0.00022        2073       2117\n",
       "14  -0.00253        2148       2247\n",
       "15   0.00061        2253       2302\n",
       "16  -0.00131        2323       2476\n",
       "17   0.00228        2483       2677\n",
       "18  -0.00187        2684       2716\n",
       "19   0.00071        2721       3164\n",
       "20  -0.00024        3177       3194\n",
       "21   0.00065        3207       3332\n",
       "22   0.00067        3335       3412\n",
       "23   0.00039        3431       3445\n",
       "24   0.00224        3482       3625\n",
       "25   0.00146        3630       3788\n",
       "26   0.00036        3789       3839\n",
       "27   0.00124        3856       3939\n",
       "28  -0.00060        3947       3954\n",
       "29  -0.00031        3961       3983\n",
       "..       ...         ...        ...\n",
       "243 -0.00373       28240      28439\n",
       "244  0.00114       28440      28493\n",
       "245  0.00130       28497      28536\n",
       "246  0.00070       28539      28730\n",
       "247 -0.00056       28740      28945\n",
       "248 -0.00131       28970      29052\n",
       "249  0.00040       29081      29108\n",
       "250  0.00023       29110      29152\n",
       "251  0.00004       29159      29212\n",
       "252  0.00291       29218      29501\n",
       "253 -0.00067       29528      29557\n",
       "254  0.00117       29563      29686\n",
       "255  0.00028       29699      29770\n",
       "256 -0.00332       29787      30069\n",
       "257 -0.00005       30074      30190\n",
       "258  0.00227       30203      30576\n",
       "259  0.00215       30589      30736\n",
       "260  0.00079       30758      30921\n",
       "261 -0.00035       30930      31002\n",
       "262  0.00041       31009      31060\n",
       "263  0.00014       31075      31094\n",
       "264  0.00003       31100      31137\n",
       "265 -0.00116       31142      31226\n",
       "266  0.00084       31242      31254\n",
       "267 -0.00481       31256      31399\n",
       "268  0.00040       31410      31588\n",
       "269 -0.00005       31598      31604\n",
       "270 -0.00007       31611      31692\n",
       "271  0.00106       31706      31975\n",
       "272 -0.00006       31978      32065\n",
       "\n",
       "[273 rows x 3 columns]"
      ]
     },
     "execution_count": 524,
     "metadata": {},
     "output_type": "execute_result"
    }
   ],
   "source": [
    "trades"
   ]
  },
  {
   "cell_type": "code",
   "execution_count": null,
   "metadata": {},
   "outputs": [],
   "source": []
  }
 ],
 "metadata": {
  "kernelspec": {
   "display_name": "Python 3",
   "language": "python",
   "name": "python3"
  },
  "language_info": {
   "codemirror_mode": {
    "name": "ipython",
    "version": 3
   },
   "file_extension": ".py",
   "mimetype": "text/x-python",
   "name": "python",
   "nbconvert_exporter": "python",
   "pygments_lexer": "ipython3",
   "version": "3.5.5"
  }
 },
 "nbformat": 4,
 "nbformat_minor": 2
}
