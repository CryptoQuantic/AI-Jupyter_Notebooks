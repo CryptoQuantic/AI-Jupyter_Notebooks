{
 "cells": [
  {
   "cell_type": "code",
   "execution_count": 1,
   "metadata": {},
   "outputs": [
    {
     "name": "stderr",
     "output_type": "stream",
     "text": [
      "Using TensorFlow backend.\n",
      "/Users/johnwilson/anaconda/envs/ztdl/lib/python3.5/site-packages/h5py/__init__.py:34: FutureWarning: Conversion of the second argument of issubdtype from `float` to `np.floating` is deprecated. In future, it will be treated as `np.float64 == np.dtype(float).type`.\n",
      "  from ._conv import register_converters as _register_converters\n"
     ]
    }
   ],
   "source": [
    "from keras.applications import inception_v3\n",
    "from keras import backend as K\n",
    "\n",
    "K.set_learning_phase(0)\n",
    "\n",
    "model = inception_v3.InceptionV3(weights='imagenet',\n",
    "                                 include_top=False)"
   ]
  },
  {
   "cell_type": "code",
   "execution_count": 2,
   "metadata": {},
   "outputs": [],
   "source": [
    "layer_contributions = {\n",
    "    'mixed2': 0.2,\n",
    "    'mixed3': 3.,\n",
    "    'mixed4': 2.,\n",
    "    'mixed5': 1.5,\n",
    "}"
   ]
  },
  {
   "cell_type": "code",
   "execution_count": 3,
   "metadata": {},
   "outputs": [],
   "source": [
    "layer_dict = dict([(layer.name, layer) for layer in model.layers])\n",
    "\n",
    "loss = K.variable(0.)\n",
    "for layer_name in layer_contributions:\n",
    "    coeff = layer_contributions[layer_name]\n",
    "    activation = layer_dict[layer_name].output\n",
    "\n",
    "    scaling = K.prod(K.cast(K.shape(activation), 'float32'))\n",
    "    loss += coeff * K.sum(K.square(activation[:, 2: -2, 2: -2, :])) / scaling"
   ]
  },
  {
   "cell_type": "code",
   "execution_count": 4,
   "metadata": {},
   "outputs": [],
   "source": [
    "dream = model.input\n",
    "\n",
    "grads = K.gradients(loss, dream)[0]\n",
    "\n",
    "grads /= K.maximum(K.mean(K.abs(grads)), 1e-7)\n",
    "\n",
    "outputs = [loss, grads]\n",
    "fetch_loss_and_grads = K.function([dream], outputs)\n",
    "\n",
    "def eval_loss_and_grads(x):\n",
    "    outs = fetch_loss_and_grads([x])\n",
    "    loss_value = outs[0]\n",
    "    grad_values = outs[1]\n",
    "    return loss_value, grad_values\n",
    "\n",
    "def gradient_ascent(x, iterations, step, max_loss=None):\n",
    "    for i in range(iterations):\n",
    "        loss_value, grad_values = eval_loss_and_grads(x)\n",
    "        if max_loss is not None and loss_value > max_loss:\n",
    "            break\n",
    "        print('...Loss value at', i, ':', loss_value)\n",
    "        x += step * grad_values\n",
    "    return x"
   ]
  },
  {
   "cell_type": "code",
   "execution_count": 19,
   "metadata": {},
   "outputs": [],
   "source": [
    "import scipy\n",
    "from keras.preprocessing import image\n",
    "\n",
    "def resize_img(img, size):\n",
    "    img = np.copy(img)\n",
    "    factors = (1,\n",
    "               float(size[0]) / img.shape[1],\n",
    "               float(size[1]) / img.shape[2],\n",
    "               1)\n",
    "    return scipy.ndimage.zoom(img, factors, order=1)\n",
    "\n",
    "def save_img(img, fname):\n",
    "    pil_img = deprocess_image(np.copy(img))\n",
    "    scipy.misc.imsave(fname, pil_img)\n",
    "\n",
    "def preprocess_image(image_path):\n",
    "    img = image.load_img(image_path)\n",
    "    img = image.img_to_array(img)\n",
    "    img = np.expand_dims(img, axis=0)\n",
    "    img = inception_v3.preprocess_input(img)\n",
    "    return img\n",
    "\n",
    "def deprocess_image(x):\n",
    "    if K.image_data_format() == 'channels_first':\n",
    "        x = x.reshape((3, x.shape[2], x.shape[3]))\n",
    "        x = x.transpose((1, 2, 0))\n",
    "    else:\n",
    "        x = x.reshape((x.shape[1], x.shape[2], 3))\n",
    "    x /= 2.\n",
    "    x += 0.5\n",
    "    x *= 255.\n",
    "    x = np.clip(x, 0, 255).astype('uint8')\n",
    "    return x"
   ]
  },
  {
   "cell_type": "code",
   "execution_count": null,
   "metadata": {},
   "outputs": [],
   "source": []
  },
  {
   "cell_type": "raw",
   "metadata": {},
   "source": []
  },
  {
   "cell_type": "code",
   "execution_count": 22,
   "metadata": {},
   "outputs": [
    {
     "name": "stdout",
     "output_type": "stream",
     "text": [
      "Processing image shape (261, 261)\n",
      "...Loss value at 0 : 1.4971873\n",
      "...Loss value at 1 : 2.2473972\n",
      "...Loss value at 2 : 2.904879\n",
      "...Loss value at 3 : 3.4913092\n",
      "...Loss value at 4 : 4.107569\n",
      "...Loss value at 5 : 4.744383\n",
      "...Loss value at 6 : 5.359408\n",
      "...Loss value at 7 : 5.9777737\n",
      "...Loss value at 8 : 6.519592\n",
      "...Loss value at 9 : 7.0759463\n",
      "...Loss value at 10 : 7.6029367\n",
      "...Loss value at 11 : 8.079557\n",
      "...Loss value at 12 : 8.581804\n",
      "...Loss value at 13 : 9.054133\n",
      "...Loss value at 14 : 9.516419\n",
      "...Loss value at 15 : 9.928343\n"
     ]
    },
    {
     "name": "stderr",
     "output_type": "stream",
     "text": [
      "/Users/johnwilson/anaconda/envs/ztdl/lib/python3.5/site-packages/ipykernel_launcher.py:14: DeprecationWarning: `imsave` is deprecated!\n",
      "`imsave` is deprecated in SciPy 1.0.0, and will be removed in 1.2.0.\n",
      "Use ``imageio.imwrite`` instead.\n",
      "  \n"
     ]
    },
    {
     "name": "stdout",
     "output_type": "stream",
     "text": [
      "Processing image shape (365, 365)\n",
      "...Loss value at 0 : 2.5275903\n",
      "...Loss value at 1 : 3.701915\n",
      "...Loss value at 2 : 4.7458315\n",
      "...Loss value at 3 : 5.733871\n",
      "...Loss value at 4 : 6.5648246\n",
      "...Loss value at 5 : 7.3750353\n",
      "...Loss value at 6 : 8.099675\n",
      "...Loss value at 7 : 8.820207\n",
      "...Loss value at 8 : 9.483015\n",
      "Processing image shape (512, 512)\n",
      "...Loss value at 0 : 2.666716\n",
      "...Loss value at 1 : 3.8590834\n",
      "...Loss value at 2 : 4.8839736\n",
      "...Loss value at 3 : 5.854912\n",
      "...Loss value at 4 : 6.7803617\n",
      "...Loss value at 5 : 7.6688523\n",
      "...Loss value at 6 : 8.5126915\n",
      "...Loss value at 7 : 9.314524\n"
     ]
    }
   ],
   "source": [
    "layer_contributions = {\n",
    "    'mixed2': 0.2,\n",
    "    'mixed3': 1.,\n",
    "    'mixed4': 2.,\n",
    "    'mixed5': 1.5,\n",
    "}\n",
    "import numpy as np\n",
    "step = 0.01\n",
    "num_ocatve = 3\n",
    "octave_scale = 1.4\n",
    "iterations = 20\n",
    "max_loss = 10.\n",
    "base_image_path = \"/Users/johnwilson/Desktop/starry_night.png\"\n",
    "img = preprocess_image(base_image_path)\n",
    "img = resize_img(img,(512,512))\n",
    "original_shape = img.shape[1:3]\n",
    "successive_shapes = [original_shape]\n",
    "for i in range(1,num_ocatve):\n",
    "    shape = tuple([int(dim/ (octave_scale ** i)) for dim in original_shape])\n",
    "    successive_shapes.append(shape)\n",
    "successive_shapes = successive_shapes[::-1]    \n",
    "original_img = np.copy(img)\n",
    "shrunk_original_img = resize_img(img,successive_shapes[0])\n",
    "for shape in successive_shapes:\n",
    "    print('Processing image shape',shape)\n",
    "    img = resize_img(img,shape)\n",
    "    img = gradient_ascent(img,iterations = iterations,step=step,max_loss=max_loss)\n",
    "    upscaled_shrunk_original_img = resize_img(shrunk_original_img,shape)\n",
    "    same_size_original = resize_img(original_img,shape)\n",
    "    lost_detail = same_size_original-upscaled_shrunk_original_img\n",
    "    img+=lost_detail\n",
    "    shrunk_original_img =resize_img(original_img,shape)\n",
    "    save_img(img,fname = 'dream_at_scale_'+str(shape) + '.png')\n",
    "save_img(img,fname='final_dream.png')    "
   ]
  },
  {
   "cell_type": "code",
   "execution_count": null,
   "metadata": {},
   "outputs": [],
   "source": []
  },
  {
   "cell_type": "code",
   "execution_count": null,
   "metadata": {},
   "outputs": [],
   "source": []
  }
 ],
 "metadata": {
  "kernelspec": {
   "display_name": "Python 3",
   "language": "python",
   "name": "python3"
  },
  "language_info": {
   "codemirror_mode": {
    "name": "ipython",
    "version": 3
   },
   "file_extension": ".py",
   "mimetype": "text/x-python",
   "name": "python",
   "nbconvert_exporter": "python",
   "pygments_lexer": "ipython3",
   "version": "3.5.5"
  }
 },
 "nbformat": 4,
 "nbformat_minor": 2
}
